{
 "cells": [
  {
   "cell_type": "code",
   "execution_count": 1,
   "metadata": {},
   "outputs": [],
   "source": [
    "# import libraries\n",
    "import networkx as nx\n",
    "import plotly.graph_objs as go\n",
    "import pickle\n",
    "import matplotlib.pyplot as plt\n",
    "import math as mt\n",
    "import os\n",
    "import xml.etree.ElementTree as ET\n",
    "import csv\n",
    "import pandas as pd"
   ]
  },
  {
   "cell_type": "code",
   "execution_count": 2,
   "metadata": {},
   "outputs": [
    {
     "data": {
      "text/plain": [
       "3524"
      ]
     },
     "execution_count": 2,
     "metadata": {},
     "output_type": "execute_result"
    }
   ],
   "source": [
    "#import datasets\n",
    "cpp = pickle.load(open('labeled_data/cpp.pkl', 'rb'))\n",
    "java = pickle.load(open('labeled_data/java.pkl', 'rb'))\n",
    "web = pickle.load(open('labeled_data/webdev.pkl', 'rb'))\n",
    "data_all = [cpp, java, web]\n",
    "\n",
    "# creating one dataset\n",
    "data = []\n",
    "for item in data_all:\n",
    "    data.extend(item)\n",
    "\n",
    "len(data)"
   ]
  },
  {
   "cell_type": "code",
   "execution_count": 65,
   "metadata": {},
   "outputs": [
    {
     "data": {
      "text/plain": [
       "{'id': 204,\n",
       " 'skills': ['PHP', 'MySQL', 'HTML', 'Website Design', 'Python'],\n",
       " 'location': 'Venezuela',\n",
       " 'reviews': 105,\n",
       " 'progress': 5.9,\n",
       " 'label': 'web'}"
      ]
     },
     "execution_count": 65,
     "metadata": {},
     "output_type": "execute_result"
    }
   ],
   "source": [
    "web[203]"
   ]
  },
  {
   "cell_type": "code",
   "execution_count": 3,
   "metadata": {},
   "outputs": [
    {
     "name": "stdout",
     "output_type": "stream",
     "text": [
      "Location-based Network:\n",
      "Nodes: 3524\n",
      "Edges: 773082\n",
      "success\n",
      "\n",
      "Skill-based Network:\n",
      "Nodes: 3524\n",
      "Edges: 1841855\n",
      "success\n",
      "\n",
      "Fully connected Network:\n",
      "Nodes: 3524\n",
      "Edges: 6207526\n",
      "success\n"
     ]
    }
   ],
   "source": [
    "# Create location-based and skill-based networks\n",
    "location_based_network = nx.Graph()\n",
    "skill_based_network = nx.Graph()\n",
    "fully_connected_graph = nx.Graph()\n",
    "\n",
    "# Iterate through the data and add nodes to the networks\n",
    "n = 0\n",
    "for item in data:\n",
    "    item['id'] = n  # Access 'id' key\n",
    "    node_id = item['id']\n",
    "    label = item['label']\n",
    "    location = item['location']  # Access 'location' key\n",
    "    skills = item['skills']  # Access 'skills' key\n",
    "\n",
    "    location_based_network.add_node(node_id, location=location, skills = skills, label=label)\n",
    "    skill_based_network.add_node(node_id, location=location, skills=skills, label=label)\n",
    "    fully_connected_graph.add_node(node_id, location = location, skills=skills, label=label)\n",
    "    n += 1\n",
    "\n",
    "# Add edges to the location-based network\n",
    "for node1, data1 in location_based_network.nodes(data=True):\n",
    "    for node2, data2 in location_based_network.nodes(data=True):\n",
    "        if node1 != node2 and data1['location'] == data2['location']:\n",
    "            location_based_network.add_edge(node1, node2)\n",
    "\n",
    "# Add weighted edges to the skill-based network\n",
    "for node1, data1 in skill_based_network.nodes(data=True):\n",
    "    for node2, data2 in skill_based_network.nodes(data=True):\n",
    "        if node1 != node2:\n",
    "            skills1 = set(data1['skills'])\n",
    "            skills2 = set(data2['skills'])\n",
    "            common_skills = skills1.intersection(skills2)\n",
    "            if common_skills:\n",
    "                weight = 1 / len(common_skills)\n",
    "                skill_based_network.add_edge(node1, node2, weight=weight)\n",
    "\n",
    "# Add weighted edges to fully connected graph\n",
    "for node1, data1 in fully_connected_graph.nodes(data=True):\n",
    "    for node2, data2 in fully_connected_graph.nodes(data=True):\n",
    "        if node1 != node2:\n",
    "            skills1 = set(data1['skills'])\n",
    "            skills2 = set(data2['skills'])\n",
    "            common_skills = skills1.intersection(skills2)\n",
    "            if len(common_skills) > 0 and  (node1 != node2 and data1['location'] == data2['location']):\n",
    "                weight = mt.exp(-(len(common_skills) + 1 ))\n",
    "                fully_connected_graph.add_edge(node1, node2, weight=weight)\n",
    "            else:\n",
    "                weight = mt.exp(-(len(common_skills)))\n",
    "                fully_connected_graph.add_edge(node1, node2, weight=weight)\n",
    "\n",
    "# Example: Printing the number of nodes and edges in the two networks\n",
    "print(\"Location-based Network:\")\n",
    "print(f\"Nodes: {location_based_network.number_of_nodes()}\")\n",
    "print(f\"Edges: {location_based_network.number_of_edges()}\")\n",
    "# Store the graph in a pickle file\n",
    "try:\n",
    "    pickle.dump(location_based_network, open(\"labeled_data\\\\location_based_network.pkl\", \"wb\"))\n",
    "    print(\"success\")\n",
    "except:\n",
    "    print('failed to store location-based  graph')\n",
    "\n",
    "print(\"\\nSkill-based Network:\")\n",
    "print(f\"Nodes: {skill_based_network.number_of_nodes()}\")\n",
    "print(f\"Edges: {skill_based_network.number_of_edges()}\")\n",
    "# Store the graph in a pickle file\n",
    "try:\n",
    "    pickle.dump(skill_based_network, open(\"labeled_data\\\\skill_based_network.pkl\", \"wb\"))\n",
    "    print(\"success\")\n",
    "except:\n",
    "    print('failed to store skill-based  graph')\n",
    "\n",
    "print(\"\\nFully connected Network:\")\n",
    "print(f\"Nodes: {fully_connected_graph.number_of_nodes()}\")\n",
    "print(f\"Edges: {fully_connected_graph.number_of_edges()}\")\n",
    "# Store the graph in a pickle file\n",
    "try:\n",
    "    pickle.dump(fully_connected_graph, open(\"labeled_data\\\\fully_connected_network.pkl\", \"wb\"))\n",
    "    print(\"success\")\n",
    "except:\n",
    "    print('failed to store fully connected graph')"
   ]
  },
  {
   "cell_type": "code",
   "execution_count": null,
   "metadata": {},
   "outputs": [],
   "source": [
    "# Create an XML representation of the graph\n",
    "def graph_to_xml(graph):\n",
    "    root = ET.Element(\"graph\")\n",
    "    \n",
    "    # Iterate over nodes and add them to the XML\n",
    "    for node, node_data in graph.nodes(data=True):\n",
    "        node_elem = ET.SubElement(root, \"node\", attrib={\"id\": str(node)})\n",
    "        \n",
    "        # Add node attributes as sub-elements\n",
    "        for key, value in node_data.items():\n",
    "            attr_elem = ET.SubElement(node_elem, \"attribute\", attrib={\"key\": key})\n",
    "            attr_elem.text = str(value)\n",
    "\n",
    "    # Iterate over edges and add them to the XML\n",
    "    for u, v, edge_data in graph.edges(data=True):\n",
    "        edge_elem = ET.SubElement(root, \"edge\", attrib={\"source\": str(u), \"target\": str(v)})\n",
    "        \n",
    "        # Add edge attributes as sub-elements\n",
    "        for key, value in edge_data.items():\n",
    "            attr_elem = ET.SubElement(edge_elem, \"attribute\", attrib={\"key\": key})\n",
    "            attr_elem.text = str(value)\n",
    "\n",
    "    return ET.tostring(root, encoding=\"utf-8\").decode()"
   ]
  },
  {
   "cell_type": "code",
   "execution_count": null,
   "metadata": {},
   "outputs": [],
   "source": [
    "def remove_extension(string):\n",
    "  \"\"\"Removes everything after a . in a Python string.\n",
    "\n",
    "  Args:\n",
    "    string: A Python string.\n",
    "\n",
    "  Returns:\n",
    "    A Python string with everything after a . removed.\n",
    "  \"\"\"\n",
    "\n",
    "  index = string.find(\".\")\n",
    "  if index != -1:\n",
    "    return string[:index]\n",
    "  else:\n",
    "    return string"
   ]
  },
  {
   "cell_type": "code",
   "execution_count": null,
   "metadata": {},
   "outputs": [],
   "source": [
    "# Save data as XML from graph\n",
    "directory = 'C:\\\\Users\\\\tm0663\\Documents\\Projects\\Team formation\\Repository\\\\networks\\web'\n",
    "for filename in os.listdir(directory):\n",
    "    if filename.endswith('.pkl'):\n",
    "\n",
    "        # Load the graph from the pickle file\n",
    "        filepath = f\"{directory}\\{filename}\"\n",
    "        graph = pickle.load(open(filepath, \"rb\"))  # Load network\n",
    "            \n",
    "        # Convert the graph to XML\n",
    "        xml_data = graph_to_xml(graph)\n",
    "\n",
    "        # Save the XML data to a file\n",
    "        with open(f'xml_networks\\web\\{remove_extension(filename)}.xml', 'w') as xml_file:\n",
    "            xml_file.write(xml_data)\n"
   ]
  },
  {
   "cell_type": "code",
   "execution_count": null,
   "metadata": {},
   "outputs": [],
   "source": [
    "directory = 'C:\\\\Users\\\\tm0663\\Documents\\Projects\\Team formation\\Repository\\\\networks\\web'\n",
    "for filename in os.listdir(directory):\n",
    "    if filename.endswith('.pkl'):\n",
    "        try:\n",
    "            # Load the graph from the pickle file\n",
    "            filepath = f\"{directory}\\{filename}\"\n",
    "            graph = pickle.load(open(filepath, \"rb\"))  # Load network\n",
    "            # Create a CSV writer object\n",
    "            with open(f\"csv_networks\\web\\{remove_extension(filename)}.csv\", \"w\", newline=\"\") as f:\n",
    "                writer = csv.writer(f)\n",
    "\n",
    "                # Write the header row\n",
    "                writer.writerow([\"node_1\", \"node_2\", \"weight\"])\n",
    "\n",
    "                # Write the edge data to the CSV file\n",
    "                for edge in graph.edges():\n",
    "                    weight = graph.edges[edge][\"weight\"]\n",
    "                    writer.writerow([edge[0], edge[1], weight])\n",
    "        except:\n",
    "            print(\"error\")\n",
    "        # Close the CSV file\n",
    "        f.close()"
   ]
  },
  {
   "cell_type": "code",
   "execution_count": null,
   "metadata": {},
   "outputs": [],
   "source": [
    "graph = pickle.load(open('networks\\web\\location_based_network.pkl', \"rb\"))  # Load network\n",
    "# Create a CSV writer object\n",
    "with open(\"C:\\\\Users\\\\tm0663\\Documents\\Projects\\Team formation\\Repository\\csv_networks\\web\\location_based_network.csv\", \"w\", newline=\"\") as f:\n",
    "    writer = csv.writer(f)\n",
    "\n",
    "    # Write the header row\n",
    "    writer.writerow([\"node_1\", \"node_2\"])\n",
    "\n",
    "    # Write the edge data to the CSV file\n",
    "    for edge in graph.edges():\n",
    "        writer.writerow(edge)"
   ]
  },
  {
   "cell_type": "code",
   "execution_count": null,
   "metadata": {},
   "outputs": [],
   "source": [
    "# def common_skills(G, u, v):\n",
    "#     U = set(G.nodes[u]['skills'])\n",
    "#     V = set(G.nodes[v]['skills'])\n",
    "#     common = U.intersection(V)\n",
    "#     return list(common) if len(common) > 0 else 0"
   ]
  },
  {
   "cell_type": "code",
   "execution_count": null,
   "metadata": {},
   "outputs": [],
   "source": [
    "# def convert2csv(G, path):\n",
    "#     # Convert the graph to a DataFrame\n",
    "#     node_data = [(node, data) for node, data in G.nodes(data=True)]\n",
    "#     edge_data = [(u, v, G.edges[(u,v)][\"weight\"]) for u, v, data in G.edges(data=True)]\n",
    "#     # edge_data = [(u, v, G.edges[(u,v)][\"weight\"], G.nodes[u]['location'], common_skills(G, u, v)) for u, v, data in G.edges(data=True)]\n",
    "    \n",
    "#     # Create DataFrames for nodes and edges\n",
    "#     nodes_df = pd.DataFrame(node_data, columns=[\"Node\", \"Attributes\"])\n",
    "#     edges_df = pd.DataFrame(edge_data, columns=[\"Node1\", \"Node2\", \"Weights\"])\n",
    "#     # edges_df = pd.DataFrame(edge_data, columns=[\"Node1\", \"Node2\", \"Weights\", \"Location\", \"Skills\"])\n",
    "\n",
    "#     # Concatenate nodes and edges DataFrames\n",
    "#     # combined_df = pd.concat([nodes_df, edges_df], ignore_index=True)\n",
    "\n",
    "#     # Export the combined data to a single CSV file\n",
    "#     # combined_df.to_csv(path, index=False)\n",
    "#     # Export the node and edge data to CSV files\n",
    "#     nodes_df.to_csv(f\"{path}\\\\nodes.csv\", index=False)\n",
    "#     edges_df.to_csv(f\"{path}\\edges.csv\", index=False)"
   ]
  },
  {
   "cell_type": "code",
   "execution_count": null,
   "metadata": {},
   "outputs": [],
   "source": [
    "def createWeightedEdgelist(G, path, filename):\n",
    "    # Convert the graph to a DataFrame\n",
    "    node_data = [(node, data) for node, data in G.nodes(data=True)]\n",
    "    edge_data = [(u, v, G.edges[(u,v)][\"weight\"]) for u, v, data in G.edges(data=True)]\n",
    "\n",
    "    edges_df = pd.DataFrame(edge_data, columns=[\"Node1\", \"Node2\", \"Weights\"])\n",
    "    # edges_df = pd.DataFrame(edge_data, columns=[\"Node1\", \"Node2\", \"Weights\", \"Location\", \"Skills\"])\n",
    "\n",
    "    # Export the edge data to CSV files\n",
    "    edges_df.to_csv(f\"{path}\\{filename}edgeslist.csv\", index=False)"
   ]
  },
  {
   "cell_type": "code",
   "execution_count": null,
   "metadata": {},
   "outputs": [],
   "source": [
    "def createEdgelist(G, path, filename):\n",
    "    # Convert the graph to a DataFrame\n",
    "    node_data = [(node, data) for node, data in G.nodes(data=True)]\n",
    "    edge_data = [(u, v) for u, v, data in G.edges(data=True)]\n",
    "\n",
    "    edges_df = pd.DataFrame(edge_data, columns=[\"Node1\", \"Node2\"])\n",
    "    # edges_df = pd.DataFrame(edge_data, columns=[\"Node1\", \"Node2\", \"Weights\", \"Location\", \"Skills\"])\n",
    "\n",
    "    # Export the edge data to CSV files\n",
    "    edges_df.to_csv(f\"{path}\\{filename}edgeslist.csv\", index=False)"
   ]
  },
  {
   "cell_type": "code",
   "execution_count": null,
   "metadata": {},
   "outputs": [],
   "source": [
    "graph_path = 'networks\\cpp\\skill_based_network.pkl'\n",
    "graph = pickle.load(open(graph_path, 'rb'))\n",
    "path = 'csv_networks\\cpp'\n",
    "createWeightedEdgelist(graph, path, 'skills')"
   ]
  },
  {
   "cell_type": "code",
   "execution_count": null,
   "metadata": {},
   "outputs": [],
   "source": [
    "graph_path = 'networks\\cpp\\location_based_network.pkl'\n",
    "graph = pickle.load(open(graph_path, 'rb'))\n",
    "path = 'csv_networks\\cpp'\n",
    "createEdgelist(graph, path, 'location_')"
   ]
  },
  {
   "cell_type": "code",
   "execution_count": null,
   "metadata": {},
   "outputs": [],
   "source": [
    "# # Node degree distribution\n",
    "# degree_sequence = [d for n, d in location_based_network.degree()]\n",
    "# plt.hist(degree_sequence, bins=10, alpha=0.7, color='b', edgecolor='k')\n",
    "# plt.xlabel('Degree')\n",
    "# plt.ylabel('Number of Nodes')\n",
    "# plt.title('Node Degree Distribution -- Location based')\n",
    "# plt.show()"
   ]
  },
  {
   "cell_type": "code",
   "execution_count": null,
   "metadata": {},
   "outputs": [],
   "source": [
    "# # Node degree distribution\n",
    "# degree_sequence = [d for n, d in skill_based_network.degree()]\n",
    "# plt.hist(degree_sequence, bins=10, alpha=0.7, color='b', edgecolor='k')\n",
    "# plt.xlabel('Degree')\n",
    "# plt.ylabel('Number of Nodes')\n",
    "# plt.title('Node Degree Distribution -- Skill based')\n",
    "# plt.show()"
   ]
  },
  {
   "cell_type": "code",
   "execution_count": null,
   "metadata": {},
   "outputs": [],
   "source": [
    "# # Clustering coefficient\n",
    "# print(\"====== Location Based ======\")\n",
    "# avg_clustering = nx.average_clustering(location_based_network)\n",
    "# print(f\"Average Clustering Coefficient: {avg_clustering}\")\n",
    "\n",
    "# # Centrality measures (e.g., degree centrality, betweenness centrality, closeness centrality)\n",
    "# degree_centrality = nx.degree_centrality(location_based_network)\n",
    "# betweenness_centrality = nx.betweenness_centrality(location_based_network)\n",
    "# closeness_centrality = nx.closeness_centrality(location_based_network)\n",
    "# print(f\"Degree Centrality: {degree_centrality}\")\n",
    "# print(f\"Betweeness Centrality: {betweenness_centrality}\")\n",
    "# print(f\"Closeness Centrality: {closeness_centrality}\")"
   ]
  },
  {
   "cell_type": "code",
   "execution_count": null,
   "metadata": {},
   "outputs": [],
   "source": [
    "# # Clustering coefficient\n",
    "# print(\"======= Skill Based ========\")\n",
    "# avg_clustering = nx.average_clustering(skill_based_network)\n",
    "# print(f\"Average Clustering Coefficient: {avg_clustering}\")\n",
    "\n",
    "# # Centrality measures (e.g., degree centrality, betweenness centrality, closeness centrality)\n",
    "# degree_centrality = nx.degree_centrality(skill_based_network)\n",
    "# betweenness_centrality = nx.betweenness_centrality(skill_based_network)\n",
    "# closeness_centrality = nx.closeness_centrality(skill_based_network)\n",
    "# print(f\"Degree Centrality: {degree_centrality}\")\n",
    "# print(f\"Betweeness Centrality: {betweenness_centrality}\")\n",
    "# print(f\"Closeness Centrality: {closeness_centrality}\")"
   ]
  },
  {
   "cell_type": "code",
   "execution_count": null,
   "metadata": {},
   "outputs": [],
   "source": [
    "\n",
    "# # Visualize the graph\n",
    "# pos = nx.spring_layout(location_based_network)  # Define node positions for visualization\n",
    "# nx.draw(skill_based_network, pos, with_labels=True, node_size=300, font_size=10, font_color='black', node_color='lightblue', edge_color='gray')\n",
    "# plt.title('Graph Visualization -- Location Based')\n",
    "# plt.show()"
   ]
  },
  {
   "cell_type": "code",
   "execution_count": null,
   "metadata": {},
   "outputs": [],
   "source": [
    "# # Visualize the graph\n",
    "# pos = nx.spring_layout(skill_based_network)  # Define node positions for visualization\n",
    "# nx.draw(skill_based_network, pos, with_labels=True, node_size=300, font_size=10, font_color='black', node_color='lightblue', edge_color='gray')\n",
    "# plt.title('Graph Visualization -- Skill Based')\n",
    "# plt.show()"
   ]
  },
  {
   "cell_type": "code",
   "execution_count": 66,
   "metadata": {},
   "outputs": [
    {
     "name": "stdout",
     "output_type": "stream",
     "text": [
      "Nodes sorted by neighbor weights: ['C', 'A', 'D', 'B']\n"
     ]
    }
   ],
   "source": [
    "import networkx as nx\n",
    "\n",
    "# Create a sample weighted graph (you can replace this with your own graph)\n",
    "G = nx.Graph()\n",
    "G.add_edge(\"A\", \"B\", weight=4)\n",
    "G.add_edge(\"A\", \"C\", weight=2)\n",
    "G.add_edge(\"B\", \"D\", weight=5)\n",
    "G.add_edge(\"C\", \"D\", weight=3)\n",
    "\n",
    "# Create a function to calculate the sum of neighbor weights for a node\n",
    "def sum_neighbor_weights(node):\n",
    "    return sum(G[node][neighbor]['weight'] for neighbor in G.neighbors(node))\n",
    "\n",
    "# Sort nodes based on the sum of neighbor weights\n",
    "sorted_nodes = sorted(G.nodes, key=sum_neighbor_weights)\n",
    "\n",
    "# Print the nodes sorted by neighbor weights\n",
    "print(\"Nodes sorted by neighbor weights:\", sorted_nodes)\n"
   ]
  },
  {
   "cell_type": "code",
   "execution_count": 67,
   "metadata": {},
   "outputs": [
    {
     "name": "stdout",
     "output_type": "stream",
     "text": [
      "Shortest path from A to A: ['A']\n",
      "Shortest path from A to B: ['A', 'B']\n",
      "Shortest path from A to C: ['A', 'C']\n",
      "Shortest path from A to D: ['A', 'B', 'D']\n",
      "Shortest path from B to B: ['B']\n",
      "Shortest path from B to A: ['B', 'A']\n",
      "Shortest path from B to C: ['B', 'C']\n",
      "Shortest path from B to D: ['B', 'D']\n",
      "Shortest path from C to C: ['C']\n",
      "Shortest path from C to A: ['C', 'A']\n",
      "Shortest path from C to B: ['C', 'B']\n",
      "Shortest path from C to D: ['C', 'D']\n",
      "Shortest path from D to D: ['D']\n",
      "Shortest path from D to B: ['D', 'B']\n",
      "Shortest path from D to C: ['D', 'C']\n",
      "Shortest path from D to A: ['D', 'B', 'A']\n"
     ]
    }
   ],
   "source": [
    "import networkx as nx\n",
    "\n",
    "# Create a sample graph (you can replace this with your own graph)\n",
    "G = nx.Graph()\n",
    "G.add_edge(\"A\", \"B\", weight=4)\n",
    "G.add_edge(\"A\", \"C\", weight=2)\n",
    "G.add_edge(\"B\", \"C\", weight=1)\n",
    "G.add_edge(\"B\", \"D\", weight=5)\n",
    "G.add_edge(\"C\", \"D\", weight=3)\n",
    "\n",
    "# Find all-pair shortest paths\n",
    "all_shortest_paths = dict(nx.all_pairs_shortest_path(G))\n",
    "\n",
    "# Print the shortest paths\n",
    "for source_node, paths in all_shortest_paths.items():\n",
    "    for target_node, shortest_path in paths.items():\n",
    "        print(f\"Shortest path from {source_node} to {target_node}: {shortest_path}\")\n"
   ]
  }
 ],
 "metadata": {
  "kernelspec": {
   "display_name": "Python 3",
   "language": "python",
   "name": "python3"
  },
  "language_info": {
   "codemirror_mode": {
    "name": "ipython",
    "version": 3
   },
   "file_extension": ".py",
   "mimetype": "text/x-python",
   "name": "python",
   "nbconvert_exporter": "python",
   "pygments_lexer": "ipython3",
   "version": "3.10.5"
  },
  "orig_nbformat": 4
 },
 "nbformat": 4,
 "nbformat_minor": 2
}
