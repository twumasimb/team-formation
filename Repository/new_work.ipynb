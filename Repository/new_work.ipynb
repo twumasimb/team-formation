{
 "cells": [
  {
   "cell_type": "code",
   "execution_count": 1,
   "metadata": {},
   "outputs": [],
   "source": [
    "import pickle \n",
    "import networkx as nx"
   ]
  },
  {
   "cell_type": "code",
   "execution_count": 2,
   "metadata": {},
   "outputs": [],
   "source": [
    "#load the data\n",
    "data = pickle.load(open('labeled_data\\\\fully_connected_network.pkl', 'rb'))"
   ]
  },
  {
   "cell_type": "code",
   "execution_count": 3,
   "metadata": {},
   "outputs": [],
   "source": [
    "# Creating the structure of the tasks\n",
    "project = nx.Graph()\n",
    "node_list = [\"java\", \"cpp\", \"web\"]\n",
    "edge_list = [(\"java\", \"web\"),(\"cpp\", \"web\")]\n",
    "project.add_nodes_from(node_list)\n",
    "project.add_edges_from(edge_list)"
   ]
  },
  {
   "cell_type": "code",
   "execution_count": null,
   "metadata": {},
   "outputs": [],
   "source": [
    "def distance_btn_nodes(G, source_node, target_node):\n",
    "    # distance = nx.shortest_path_length(G, source=source_node, target=target_node, weight=\"weight\")\n",
    "    if (source_node != target_node):\n",
    "        distance = G.get_edge_data(source_node, target_node)[\"weight\"]\n",
    "    else:\n",
    "        distance = 0\n",
    "    return distance\n",
    "\n",
    "def distance_btn_node_and_team(G, source_node, target_team):\n",
    "    distance_to_team = 0\n",
    "    for node in target_team.nodes:\n",
    "        distance_to_team = distance_to_team + distance_btn_nodes(G, source_node, node)\n",
    "    return distance_to_team\n",
    "\n",
    "def coordinator(G, source_team, target_team):\n",
    "    coordinator = None\n",
    "    min_distance = float('Inf') # Set the minimum distance to a very large number\n",
    "    for node in source_team:\n",
    "        node_distance = distance_btn_node_and_team(G, node, target_team)\n",
    "        if node_distance < min_distance:\n",
    "            min_distance = node_distance\n",
    "            coordinator = node\n",
    "    print(f\"Coordinator Distance = {min_distance}\")\n",
    "    return coordinator"
   ]
  },
  {
   "cell_type": "code",
   "execution_count": null,
   "metadata": {},
   "outputs": [],
   "source": [
    "def find_coordinators(G, P):\n",
    "    coordinators = set()\n",
    "    \n",
    "    for (u, v) in P.edges:\n",
    "        new_coordinator = None\n",
    "        if u == 'java':\n",
    "            source_team = java_best_network\n",
    "        elif u == 'cpp':\n",
    "            source_team = cpp_best_network\n",
    "        else:\n",
    "            source_team = web_best\n",
    "\n",
    "        if v == 'java':\n",
    "            target_team = java_best_network\n",
    "        elif v == 'cpp':\n",
    "            target_team = cpp_best_network\n",
    "        else:\n",
    "            target_team = web_best_network\n",
    "\n",
    "        new_coordinator = coordinator(G, source_team, target_team)\n",
    "        coordinators.add(new_coordinator)\n",
    "    return coordinators"
   ]
  }
 ],
 "metadata": {
  "kernelspec": {
   "display_name": "Python 3",
   "language": "python",
   "name": "python3"
  },
  "language_info": {
   "codemirror_mode": {
    "name": "ipython",
    "version": 3
   },
   "file_extension": ".py",
   "mimetype": "text/x-python",
   "name": "python",
   "nbconvert_exporter": "python",
   "pygments_lexer": "ipython3",
   "version": "3.10.5"
  }
 },
 "nbformat": 4,
 "nbformat_minor": 2
}
