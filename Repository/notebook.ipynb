{
 "cells": [
  {
   "cell_type": "code",
   "execution_count": null,
   "metadata": {},
   "outputs": [],
   "source": [
    "import networkx as nx\n",
    "import pickle\n",
    "import matplotlib.pyplot as plt\n",
    "from networkx.algorithms import isomorphism\n",
    "import random"
   ]
  },
  {
   "cell_type": "code",
   "execution_count": null,
   "metadata": {},
   "outputs": [],
   "source": [
    "#Load the Dataset\n",
    "data = pickle.load(open('labeled_data\\\\fully_connected_network.pkl', 'rb'))"
   ]
  },
  {
   "cell_type": "code",
   "execution_count": null,
   "metadata": {},
   "outputs": [],
   "source": [
    "data.nodes[1]"
   ]
  },
  {
   "cell_type": "code",
   "execution_count": null,
   "metadata": {},
   "outputs": [],
   "source": [
    "# Creating the structure of the tasks\n",
    "project = nx.Graph()\n",
    "node_list = [\"java\", \"cpp\", \"web\"]\n",
    "edge_list = [(\"java\", \"web\"),(\"cpp\", \"web\")]\n",
    "project.add_nodes_from(node_list)\n",
    "project.add_edges_from(edge_list)"
   ]
  },
  {
   "cell_type": "code",
   "execution_count": null,
   "metadata": {},
   "outputs": [],
   "source": [
    "# Initialize Sets for each Team\n",
    "Team_java = set()\n",
    "Team_cpp = set()\n",
    "Team_web = set()\n",
    "\n",
    "Task_Java_skills = set(['Mobile App Development', 'Android', 'iPhone', 'Java',\n",
    "                       'Linux', 'System Admin', 'Flutter', 'HTML', 'Pine Script', 'eCommerce', 'Swift',\n",
    "                        'Web Scraping', 'Flutter', 'ASP.NET', 'MySQL', 'API', 'Amazon Web Services',\n",
    "                        'Android Studio', 'API Integration'])\n",
    "Task_Cpp_skills = set(['C++ Programming', 'C Programming', 'C# Programming',\n",
    "                      'Visual Basic', 'Software Architecture', 'PHP', 'Linux', 'JavaScript',\n",
    "                       'Blockchain', 'API', 'Engineering', 'MySQL', '.NET', 'API Integration'])\n",
    "Task_Web_skills = set(['SEO', 'Website Design', 'PHP', 'WordPress', 'HTML', 'Website Design',\n",
    "                      'JavaScript', 'HTML5', 'PHP', 'JavaScript', 'React.js', 'Graphic Design',\n",
    "                       'CSS', 'Logo Design', 'Photoshop', 'Illustrator', 'eCommerce', 'Prestashop',\n",
    "                       'PSD to HTML''Content Marketing', 'API', 'Python', 'Web Hosting', 'PSD to HTML',\n",
    "                       'Advertising', 'Shopify', 'App Developer', 'Django'])\n",
    "\n",
    "Covered_Java_skills = set()\n",
    "Covered_Cpp_skills = set()\n",
    "Covered_Web_skills = set()"
   ]
  },
  {
   "cell_type": "code",
   "execution_count": null,
   "metadata": {},
   "outputs": [],
   "source": [
    "# Create teams\n",
    "# Define the attribute to filter by\n",
    "attribute_to_filter = 'label'\n",
    "java_value = 'java'\n",
    "cpp_value = 'cpp'\n",
    "web_value = 'web'\n",
    "\n",
    "# Filter nodes based on the attribute\n",
    "filtered_java_nodes = [node for node, data in data.nodes(data=True) if data.get(attribute_to_filter) == java_value]\n",
    "filtered_cpp_nodes = [node for node, data in data.nodes(data=True) if data.get(attribute_to_filter) == cpp_value]\n",
    "filtered_web_nodes = [node for node, data in data.nodes(data=True) if data.get(attribute_to_filter) == web_value]\n",
    "\n",
    "# Create a subgraph with the filtered nodes\n",
    "java_network = data.subgraph(filtered_java_nodes)\n",
    "cpp_network = data.subgraph(filtered_cpp_nodes)\n",
    "web_network = data.subgraph(filtered_web_nodes)"
   ]
  },
  {
   "cell_type": "code",
   "execution_count": null,
   "metadata": {},
   "outputs": [],
   "source": [
    "def greedyCover(network, skills):\n",
    "    covered_skills = set()\n",
    "    network_copy = network.copy()\n",
    "    selected_set = set()\n",
    "\n",
    "    while len(skills-covered_skills) > 0:\n",
    "        max_cover = set()\n",
    "        top_node = None\n",
    "        for node in network_copy.nodes:\n",
    "            local_skills = set(network_copy.nodes[node]['skills'])\n",
    "            # print(f\"Node Skills --> {local_skills}\")\n",
    "            if len(local_skills.intersection(skills-covered_skills)) > len(max_cover):\n",
    "                max_cover = local_skills\n",
    "                top_node = node\n",
    "        # print(f\"Best Skill set --> {max_cover}\")\n",
    "        if top_node is not None:\n",
    "            selected_set.add(top_node)\n",
    "            covered_skills = covered_skills.union(max_cover)\n",
    "            network_copy.remove_node(top_node)\n",
    "        else:\n",
    "            break\n",
    "        # print(f\"Covered Skills = {covered_skills}\")\n",
    "    return list(selected_set)"
   ]
  },
  {
   "cell_type": "code",
   "execution_count": null,
   "metadata": {},
   "outputs": [],
   "source": [
    "cpp_best = greedyCover(cpp_network, Task_Cpp_skills)\n",
    "java_best = greedyCover(java_network, Task_Java_skills)\n",
    "web_best = greedyCover(web_network, Task_Web_skills)\n",
    "\n",
    "best = []\n",
    "best.extend(cpp_best)\n",
    "best.extend(java_best)\n",
    "best.extend(web_best)\n",
    "\n",
    "best_in_network = data.subgraph(best)\n",
    "\n",
    "java_best_network = data.subgraph(java_best)\n",
    "cpp_best_network = data.subgraph(cpp_best)\n",
    "web_best_network = data.subgraph(web_best)\n",
    "\n",
    "new_network = best_in_network.copy()\n",
    "\n",
    "for u in java_best_network.nodes:\n",
    "    for v in cpp_best_network.nodes:\n",
    "        new_network.remove_edge(u, v)"
   ]
  },
  {
   "cell_type": "code",
   "execution_count": null,
   "metadata": {},
   "outputs": [],
   "source": [
    "def isIsomorphic(G, H):\n",
    "    GM = isomorphism.GraphMatcher(G, H)\n",
    "    if GM.is_isomorphic():\n",
    "        # Extract the nodes of the subgraph from G\n",
    "        subgraph_nodes = list(GM.mapping.keys())\n",
    "        subgraph = G.subgraph(subgraph_nodes)\n",
    "        \n",
    "        print(\"Subgraph with similar structure found:\")\n",
    "        # print(subgraph.edges())\n",
    "        return True\n",
    "    else:\n",
    "        print(\"No subgraph with a similar structure found.\")\n",
    "        return False"
   ]
  },
  {
   "cell_type": "code",
   "execution_count": null,
   "metadata": {},
   "outputs": [],
   "source": [
    "def getConnectedComponents(G):\n",
    "\n",
    "    # Find the connected components in the graph\n",
    "    connected_components = list(nx.connected_components(G))\n",
    "\n",
    "    # Find the largest connected component\n",
    "    largest_component = max(connected_components, key=len)\n",
    "\n",
    "    # Create a subgraph containing only the nodes in the largest connected component\n",
    "    subgraph = G.subgraph(largest_component)\n",
    "\n",
    "    return subgraph"
   ]
  },
  {
   "cell_type": "code",
   "execution_count": null,
   "metadata": {},
   "outputs": [],
   "source": [
    "def getSubgraph(G, H, w):\n",
    "    list_of_nodes = list(G.nodes)\n",
    "    random.shuffle(list_of_nodes)\n",
    "    print(f\"Shuffled Nodes: {list_of_nodes}\")\n",
    "    selected_nodes = []\n",
    "    labels = []\n",
    "    i = 0\n",
    "    j = 0\n",
    "    try:\n",
    "        while i < len(H.nodes) and j < len(list_of_nodes):\n",
    "            if (G.nodes[list_of_nodes[j]]['label'] not in labels) and (G.nodes[list_of_nodes[j]] not in selected_nodes):\n",
    "                selected_nodes.append(list_of_nodes[j])\n",
    "                labels.append(G.nodes[list_of_nodes[j]]['label'])\n",
    "                print(f\"Added Node {i+1}\")\n",
    "                i += 1\n",
    "            j += 1\n",
    "    except: \n",
    "        print(\"Error Getting Isomorphic Subgraph\")\n",
    "\n",
    "    subGraph = G.subgraph(selected_nodes)\n",
    "    if isIsomorphic(subGraph, H):\n",
    "        print(subGraph.nodes)\n",
    "        return subGraph\n",
    "    else:\n",
    "        while w > 0:\n",
    "            getSubgraph(G, H, w)\n",
    "            w -= 1"
   ]
  },
  {
   "cell_type": "code",
   "execution_count": null,
   "metadata": {},
   "outputs": [],
   "source": [
    "try_network = new_network.subgraph([1, 905, 1565])"
   ]
  },
  {
   "cell_type": "code",
   "execution_count": null,
   "metadata": {},
   "outputs": [],
   "source": [
    "getSubgraph(try_network, project, 3)"
   ]
  },
  {
   "cell_type": "code",
   "execution_count": null,
   "metadata": {},
   "outputs": [],
   "source": [
    "def guessGreedy(G, H, w):\n",
    "    # test_subgraph = \n",
    "    while G.number_of_edges() >= H.number_of_edges():\n",
    "        network = getConnectedComponents(G)\n",
    "        print(f\"Selected network {network}\")\n",
    "        subgraph = getSubgraph(network, H, w)\n",
    "        print(f\"subgraph found {subgraph.nodes}\")\n",
    "        max_weight_edge = max(subgraph.edges(data=True), key=lambda edge: edge[2]['weight'])\n",
    "        k = max_weight_edge[0]\n",
    "        l = max_weight_edge[1]\n",
    "        # print(\"I got this far!\")\n",
    "        for (u, v) in G.edges():\n",
    "            # print(\"\\nI mean this far\")\n",
    "            if (G.nodes[u]['label'] == G.nodes[l]['label']) and (G.nodes[v]['label'] == G.nodes[k]['label']) and G[u][v]['weight'] > max_weight_edge[2]['weight']:\n",
    "                G.remove_edge(u, v)\n",
    "                print(\"Edge Removed\")\n",
    "        print(f\"Nodes remaining in G: {getConnectedComponents(G)}\")\n",
    "    return getConnectedComponents(G)"
   ]
  },
  {
   "cell_type": "code",
   "execution_count": null,
   "metadata": {},
   "outputs": [],
   "source": [
    "guessGreedy(new_network, project, 3)"
   ]
  }
 ],
 "metadata": {
  "kernelspec": {
   "display_name": "Python 3",
   "language": "python",
   "name": "python3"
  },
  "language_info": {
   "codemirror_mode": {
    "name": "ipython",
    "version": 3
   },
   "file_extension": ".py",
   "mimetype": "text/x-python",
   "name": "python",
   "nbconvert_exporter": "python",
   "pygments_lexer": "ipython3",
   "version": "3.10.5"
  }
 },
 "nbformat": 4,
 "nbformat_minor": 2
}
