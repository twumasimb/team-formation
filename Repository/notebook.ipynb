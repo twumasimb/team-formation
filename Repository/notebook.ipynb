{
 "cells": [
  {
   "cell_type": "code",
   "execution_count": 1,
   "metadata": {},
   "outputs": [],
   "source": [
    "import networkx as nx\n",
    "import pickle\n",
    "import matplotlib.pyplot as plt"
   ]
  },
  {
   "cell_type": "code",
   "execution_count": 2,
   "metadata": {},
   "outputs": [],
   "source": [
    "#Load the Dataset\n",
    "data = pickle.load(open('labeled_data\\\\fully_connected_network.pkl', 'rb'))"
   ]
  },
  {
   "cell_type": "code",
   "execution_count": 22,
   "metadata": {},
   "outputs": [],
   "source": [
    "# Creating the structure of the tasks\n",
    "project = nx.Graph()\n",
    "node_list = [\"java\", \"cpp\", \"web\"]\n",
    "edge_list = [(\"java\", \"web\"),(\"cpp\", \"web\")]\n",
    "project.add_nodes_from(node_list)\n",
    "project.add_edges_from(edge_list)"
   ]
  },
  {
   "cell_type": "code",
   "execution_count": 18,
   "metadata": {},
   "outputs": [
    {
     "name": "stdout",
     "output_type": "stream",
     "text": [
      "Java\n",
      "Not Java\n",
      "Not Java\n"
     ]
    }
   ],
   "source": [
    "for u in project.nodes:\n",
    "    if u == 'java':\n",
    "        print(\"Java\")\n",
    "    else:\n",
    "        print(\"Not Java\")"
   ]
  },
  {
   "cell_type": "code",
   "execution_count": 4,
   "metadata": {},
   "outputs": [],
   "source": [
    "# Initialize Sets for each Team\n",
    "Team_java = set()\n",
    "Team_cpp = set()\n",
    "Team_web = set()\n",
    "\n",
    "Task_Java_skills = set(['Mobile App Development', 'Android', 'iPhone', 'Java',\n",
    "                       'Linux', 'System Admin', 'Flutter', 'HTML', 'Pine Script', 'eCommerce', 'Swift',\n",
    "                        'Web Scraping', 'Flutter', 'ASP.NET', 'MySQL', 'API', 'Amazon Web Services',\n",
    "                        'Android Studio', 'API Integration'])\n",
    "Task_Cpp_skills = set(['C++ Programming', 'C Programming', 'C# Programming',\n",
    "                      'Visual Basic', 'Software Architecture', 'PHP', 'Linux', 'JavaScript',\n",
    "                       'Blockchain', 'API', 'Engineering', 'MySQL', '.NET', 'API Integration'])\n",
    "Task_Web_skills = set(['SEO', 'Website Design', 'PHP', 'WordPress', 'HTML', 'Website Design',\n",
    "                      'JavaScript', 'HTML5', 'PHP', 'JavaScript', 'React.js', 'Graphic Design',\n",
    "                       'CSS', 'Logo Design', 'Photoshop', 'Illustrator', 'eCommerce', 'Prestashop',\n",
    "                       'PSD to HTML''Content Marketing', 'API', 'Python', 'Web Hosting', 'PSD to HTML',\n",
    "                       'Advertising', 'Shopify', 'App Developer', 'Django'])\n",
    "\n",
    "Covered_Java_skills = set()\n",
    "Covered_Cpp_skills = set()\n",
    "Covered_Web_skills = set()"
   ]
  },
  {
   "cell_type": "code",
   "execution_count": 5,
   "metadata": {},
   "outputs": [],
   "source": [
    "# Create teams\n",
    "# Define the attribute to filter by\n",
    "attribute_to_filter = 'label'\n",
    "java_value = 'java'\n",
    "cpp_value = 'cpp'\n",
    "web_value = 'web'\n",
    "\n",
    "# Filter nodes based on the attribute\n",
    "filtered_java_nodes = [node for node, data in data.nodes(data=True) if data.get(attribute_to_filter) == java_value]\n",
    "filtered_cpp_nodes = [node for node, data in data.nodes(data=True) if data.get(attribute_to_filter) == cpp_value]\n",
    "filtered_web_nodes = [node for node, data in data.nodes(data=True) if data.get(attribute_to_filter) == web_value]\n",
    "\n",
    "# Create a subgraph with the filtered nodes\n",
    "java_network = data.subgraph(filtered_java_nodes)\n",
    "cpp_network = data.subgraph(filtered_cpp_nodes)\n",
    "web_network = data.subgraph(filtered_web_nodes)"
   ]
  },
  {
   "cell_type": "code",
   "execution_count": null,
   "metadata": {},
   "outputs": [],
   "source": [
    "java_network.nodes()"
   ]
  },
  {
   "cell_type": "code",
   "execution_count": 7,
   "metadata": {},
   "outputs": [],
   "source": [
    "def greedyCover(network, skills):\n",
    "    covered_skills = set()\n",
    "    network_copy = network.copy()\n",
    "    selected_set = set()\n",
    "\n",
    "    while len(skills-covered_skills) > 0:\n",
    "        max_cover = set()\n",
    "        top_node = None\n",
    "        for node in network_copy.nodes:\n",
    "            local_skills = set(network_copy.nodes[node]['skills'])\n",
    "            # print(f\"Node Skills --> {local_skills}\")\n",
    "            if len(local_skills.intersection(skills-covered_skills)) > len(max_cover):\n",
    "                max_cover = local_skills\n",
    "                top_node = node\n",
    "        # print(f\"Best Skill set --> {max_cover}\")\n",
    "        if top_node is not None:\n",
    "            selected_set.add(top_node)\n",
    "            covered_skills = covered_skills.union(max_cover)\n",
    "            network_copy.remove_node(top_node)\n",
    "        else:\n",
    "            break\n",
    "        # print(f\"Covered Skills = {covered_skills}\")\n",
    "    return list(selected_set)"
   ]
  },
  {
   "cell_type": "code",
   "execution_count": 8,
   "metadata": {},
   "outputs": [],
   "source": [
    "cpp_best = greedyCover(cpp_network, Task_Cpp_skills)"
   ]
  },
  {
   "cell_type": "code",
   "execution_count": 9,
   "metadata": {},
   "outputs": [],
   "source": [
    "java_best = greedyCover(java_network, Task_Java_skills)"
   ]
  },
  {
   "cell_type": "code",
   "execution_count": 10,
   "metadata": {},
   "outputs": [],
   "source": [
    "web_best = greedyCover(web_network, Task_Web_skills)"
   ]
  },
  {
   "cell_type": "code",
   "execution_count": null,
   "metadata": {},
   "outputs": [],
   "source": [
    "best = []\n",
    "best.extend(cpp_best)\n",
    "best.extend(java_best)\n",
    "best.extend(web_best)\n",
    "best"
   ]
  },
  {
   "cell_type": "code",
   "execution_count": 12,
   "metadata": {},
   "outputs": [],
   "source": [
    "best_in_network = data.subgraph(best)"
   ]
  },
  {
   "cell_type": "code",
   "execution_count": 25,
   "metadata": {},
   "outputs": [],
   "source": [
    "java_best_network = data.subgraph(java_best)\n",
    "cpp_best_network = data.subgraph(cpp_best)\n",
    "web_best_network = data.subgraph(web_best)"
   ]
  },
  {
   "cell_type": "code",
   "execution_count": 13,
   "metadata": {},
   "outputs": [
    {
     "data": {
      "text/plain": [
       "{'location': 'Venezuela',\n",
       " 'skills': ['Metatrader',\n",
       "  'C++ Programming',\n",
       "  'C Programming',\n",
       "  'C# Programming',\n",
       "  'Visual Basic'],\n",
       " 'label': 'cpp'}"
      ]
     },
     "execution_count": 13,
     "metadata": {},
     "output_type": "execute_result"
    }
   ],
   "source": [
    "best_in_network.nodes[1]"
   ]
  },
  {
   "cell_type": "code",
   "execution_count": 26,
   "metadata": {},
   "outputs": [],
   "source": [
    "def distance_btn_nodes(G, source_node, target_node):\n",
    "    distance = nx.shortest_path_length(G, source=source_node, target=target_node, weight=\"weight\")\n",
    "    return distance\n",
    "\n",
    "def distance_btn_node_and_team(G, source_node, target_team):\n",
    "    distance_to_team = 0\n",
    "    for node in target_team.nodes:\n",
    "        distance_to_team = distance_to_team + distance_btn_nodes(G, source_node, node)\n",
    "    return distance_to_team\n",
    "\n",
    "def coordinator(G, source_team, target_team):\n",
    "    coordinator = None\n",
    "    min_distance = float('Inf') # Set the minimum distance to a very large number\n",
    "    for node in source_team:\n",
    "        node_distance = distance_btn_node_and_team(G, node, target_team)\n",
    "        if node_distance < min_distance:\n",
    "            min_distance = node_distance\n",
    "            coordinator = node\n",
    "    print(f\"Coordinator Distance = {min_distance}\")\n",
    "    return coordinator"
   ]
  },
  {
   "cell_type": "code",
   "execution_count": 27,
   "metadata": {},
   "outputs": [],
   "source": [
    "def find_coordinators(G, P):\n",
    "    coordinators = set()\n",
    "    \n",
    "    for (u, v) in P.edges:\n",
    "        new_coordinator = None\n",
    "        if u == 'java':\n",
    "            source_team = java_best_network\n",
    "        elif u == 'cpp':\n",
    "            source_team = cpp_best_network\n",
    "        else:\n",
    "            source_team = web_best\n",
    "\n",
    "        if v == 'java':\n",
    "            target_team = java_best_network\n",
    "        elif v == 'cpp':\n",
    "            target_team = cpp_best_network\n",
    "        else:\n",
    "            target_team = web_best_network\n",
    "\n",
    "        new_coordinator = coordinator(G, source_team, target_team)\n",
    "        coordinators.add(new_coordinator)\n",
    "    return coordinators"
   ]
  },
  {
   "cell_type": "code",
   "execution_count": 28,
   "metadata": {},
   "outputs": [
    {
     "name": "stdout",
     "output_type": "stream",
     "text": [
      "Coordinator Distance = 0.8023172670460694\n",
      "Coordinator Distance = 1.0905277443752528\n"
     ]
    },
    {
     "data": {
      "text/plain": [
       "{38, 662}"
      ]
     },
     "execution_count": 28,
     "metadata": {},
     "output_type": "execute_result"
    }
   ],
   "source": [
    "find_coordinators(data, project)"
   ]
  },
  {
   "cell_type": "code",
   "execution_count": 29,
   "metadata": {},
   "outputs": [
    {
     "data": {
      "text/plain": [
       "{'location': 'Pakistan',\n",
       " 'skills': ['Software Architecture',\n",
       "  'PHP',\n",
       "  'C++ Programming',\n",
       "  'MySQL',\n",
       "  'C Programming'],\n",
       " 'label': 'cpp'}"
      ]
     },
     "execution_count": 29,
     "metadata": {},
     "output_type": "execute_result"
    }
   ],
   "source": [
    "data.nodes[38]"
   ]
  },
  {
   "cell_type": "code",
   "execution_count": 30,
   "metadata": {},
   "outputs": [
    {
     "data": {
      "text/plain": [
       "{'location': 'India',\n",
       " 'skills': ['HTML', 'PHP', 'Sharepoint', 'Website Design', 'eCommerce'],\n",
       " 'label': 'java'}"
      ]
     },
     "execution_count": 30,
     "metadata": {},
     "output_type": "execute_result"
    }
   ],
   "source": [
    "data.nodes[662]"
   ]
  },
  {
   "cell_type": "code",
   "execution_count": 31,
   "metadata": {},
   "outputs": [
    {
     "name": "stdout",
     "output_type": "stream",
     "text": [
      "Coordinator Distance = 1.8489753253435084\n"
     ]
    },
    {
     "data": {
      "text/plain": [
       "1433"
      ]
     },
     "execution_count": 31,
     "metadata": {},
     "output_type": "execute_result"
    }
   ],
   "source": [
    "merged_graph = nx.compose(cpp_best_network, java_best_network)\n",
    "coordinator(data, web_best_network, merged_graph)"
   ]
  },
  {
   "cell_type": "code",
   "execution_count": 32,
   "metadata": {},
   "outputs": [
    {
     "name": "stdout",
     "output_type": "stream",
     "text": [
      "Coordinator Distance = 0.8977901659985577\n",
      "Coordinator from Web to Cpp team is : 1433\n",
      "Coordinator Distance = 0.9511851593449507\n",
      "\n",
      "Coordinator from Web to Cpp team is : 1433\n"
     ]
    }
   ],
   "source": [
    "web_to_cpp_coordinator = coordinator(data, web_best_network, cpp_best_network)\n",
    "print(f\"Coordinator from Web to Cpp team is : {web_to_cpp_coordinator}\")\n",
    "web_to_java_coordinator = coordinator(data, web_best_network, java_best_network)\n",
    "print(f\"\\nCoordinator from Web to Cpp team is : {web_to_java_coordinator}\")"
   ]
  }
 ],
 "metadata": {
  "kernelspec": {
   "display_name": "Python 3",
   "language": "python",
   "name": "python3"
  },
  "language_info": {
   "codemirror_mode": {
    "name": "ipython",
    "version": 3
   },
   "file_extension": ".py",
   "mimetype": "text/x-python",
   "name": "python",
   "nbconvert_exporter": "python",
   "pygments_lexer": "ipython3",
   "version": "3.10.5"
  }
 },
 "nbformat": 4,
 "nbformat_minor": 2
}
