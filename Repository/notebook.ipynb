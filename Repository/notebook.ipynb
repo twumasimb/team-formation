{
 "cells": [
  {
   "cell_type": "code",
   "execution_count": 1,
   "metadata": {},
   "outputs": [],
   "source": [
    "import networkx as nx\n",
    "import pickle\n",
    "import matplotlib.pyplot as plt"
   ]
  },
  {
   "cell_type": "code",
   "execution_count": 2,
   "metadata": {},
   "outputs": [],
   "source": [
    "#Load the Dataset\n",
    "data = pickle.load(open('labeled_data\\\\fully_connected_network.pkl', 'rb'))"
   ]
  },
  {
   "cell_type": "code",
   "execution_count": 22,
   "metadata": {},
   "outputs": [],
   "source": [
    "# Creating the structure of the tasks\n",
    "project = nx.Graph()\n",
    "node_list = [\"java\", \"cpp\", \"web\"]\n",
    "edge_list = [(\"java\", \"web\"),(\"cpp\", \"web\")]\n",
    "project.add_nodes_from(node_list)\n",
    "project.add_edges_from(edge_list)"
   ]
  },
  {
   "cell_type": "code",
   "execution_count": 18,
   "metadata": {},
   "outputs": [
    {
     "name": "stdout",
     "output_type": "stream",
     "text": [
      "Java\n",
      "Not Java\n",
      "Not Java\n"
     ]
    }
   ],
   "source": [
    "for u in project.nodes:\n",
    "    if u == 'java':\n",
    "        print(\"Java\")\n",
    "    else:\n",
    "        print(\"Not Java\")"
   ]
  },
  {
   "cell_type": "code",
   "execution_count": 4,
   "metadata": {},
   "outputs": [],
   "source": [
    "# Initialize Sets for each Team\n",
    "Team_java = set()\n",
    "Team_cpp = set()\n",
    "Team_web = set()\n",
    "\n",
    "Task_Java_skills = set(['Mobile App Development', 'Android', 'iPhone', 'Java',\n",
    "                       'Linux', 'System Admin', 'Flutter', 'HTML', 'Pine Script', 'eCommerce', 'Swift',\n",
    "                        'Web Scraping', 'Flutter', 'ASP.NET', 'MySQL', 'API', 'Amazon Web Services',\n",
    "                        'Android Studio', 'API Integration'])\n",
    "Task_Cpp_skills = set(['C++ Programming', 'C Programming', 'C# Programming',\n",
    "                      'Visual Basic', 'Software Architecture', 'PHP', 'Linux', 'JavaScript',\n",
    "                       'Blockchain', 'API', 'Engineering', 'MySQL', '.NET', 'API Integration'])\n",
    "Task_Web_skills = set(['SEO', 'Website Design', 'PHP', 'WordPress', 'HTML', 'Website Design',\n",
    "                      'JavaScript', 'HTML5', 'PHP', 'JavaScript', 'React.js', 'Graphic Design',\n",
    "                       'CSS', 'Logo Design', 'Photoshop', 'Illustrator', 'eCommerce', 'Prestashop',\n",
    "                       'PSD to HTML''Content Marketing', 'API', 'Python', 'Web Hosting', 'PSD to HTML',\n",
    "                       'Advertising', 'Shopify', 'App Developer', 'Django'])\n",
    "\n",
    "Covered_Java_skills = set()\n",
    "Covered_Cpp_skills = set()\n",
    "Covered_Web_skills = set()"
   ]
  },
  {
   "cell_type": "code",
   "execution_count": 5,
   "metadata": {},
   "outputs": [],
   "source": [
    "# Create teams\n",
    "# Define the attribute to filter by\n",
    "attribute_to_filter = 'label'\n",
    "java_value = 'java'\n",
    "cpp_value = 'cpp'\n",
    "web_value = 'web'\n",
    "\n",
    "# Filter nodes based on the attribute\n",
    "filtered_java_nodes = [node for node, data in data.nodes(data=True) if data.get(attribute_to_filter) == java_value]\n",
    "filtered_cpp_nodes = [node for node, data in data.nodes(data=True) if data.get(attribute_to_filter) == cpp_value]\n",
    "filtered_web_nodes = [node for node, data in data.nodes(data=True) if data.get(attribute_to_filter) == web_value]\n",
    "\n",
    "# Create a subgraph with the filtered nodes\n",
    "java_network = data.subgraph(filtered_java_nodes)\n",
    "cpp_network = data.subgraph(filtered_cpp_nodes)\n",
    "web_network = data.subgraph(filtered_web_nodes)"
   ]
  },
  {
   "cell_type": "code",
   "execution_count": 6,
   "metadata": {},
   "outputs": [
    {
     "data": {
      "text/plain": [
       "NodeView((651, 652, 653, 654, 655, 656, 657, 658, 659, 660, 661, 662, 663, 664, 665, 666, 667, 668, 669, 670, 671, 672, 673, 674, 675, 676, 677, 678, 679, 680, 681, 682, 683, 684, 685, 686, 687, 688, 689, 690, 691, 692, 693, 694, 695, 696, 697, 698, 699, 700, 701, 702, 703, 704, 705, 706, 707, 708, 709, 710, 711, 712, 713, 714, 715, 716, 717, 718, 719, 720, 721, 722, 723, 724, 725, 726, 727, 728, 729, 730, 731, 732, 733, 734, 735, 736, 737, 738, 739, 740, 741, 742, 743, 744, 745, 746, 747, 748, 749, 750, 751, 752, 753, 754, 755, 756, 757, 758, 759, 760, 761, 762, 763, 764, 765, 766, 767, 768, 769, 770, 771, 772, 773, 774, 775, 776, 777, 778, 779, 780, 781, 782, 783, 784, 785, 786, 787, 788, 789, 790, 791, 792, 793, 794, 795, 796, 797, 798, 799, 800, 801, 802, 803, 804, 805, 806, 807, 808, 809, 810, 811, 812, 813, 814, 815, 816, 817, 818, 819, 820, 821, 822, 823, 824, 825, 826, 827, 828, 829, 830, 831, 832, 833, 834, 835, 836, 837, 838, 839, 840, 841, 842, 843, 844, 845, 846, 847, 848, 849, 850, 851, 852, 853, 854, 855, 856, 857, 858, 859, 860, 861, 862, 863, 864, 865, 866, 867, 868, 869, 870, 871, 872, 873, 874, 875, 876, 877, 878, 879, 880, 881, 882, 883, 884, 885, 886, 887, 888, 889, 890, 891, 892, 893, 894, 895, 896, 897, 898, 899, 900, 901, 902, 903, 904, 905, 906, 907, 908, 909, 910, 911, 912, 913, 914, 915, 916, 917, 918, 919, 920, 921, 922, 923, 924, 925, 926, 927, 928, 929, 930, 931, 932, 933, 934, 935, 936, 937, 938, 939, 940, 941, 942, 943, 944, 945, 946, 947, 948, 949, 950, 951, 952, 953, 954, 955, 956, 957, 958, 959, 960, 961, 962, 963, 964, 965, 966, 967, 968, 969, 970, 971, 972, 973, 974, 975, 976, 977, 978, 979, 980, 981, 982, 983, 984, 985, 986, 987, 988, 989, 990, 991, 992, 993, 994, 995, 996, 997, 998, 999, 1000, 1001, 1002, 1003, 1004, 1005, 1006, 1007, 1008, 1009, 1010, 1011, 1012, 1013, 1014, 1015, 1016, 1017, 1018, 1019, 1020, 1021, 1022, 1023, 1024, 1025, 1026, 1027, 1028, 1029, 1030, 1031, 1032, 1033, 1034, 1035, 1036, 1037, 1038, 1039, 1040, 1041, 1042, 1043, 1044, 1045, 1046, 1047, 1048, 1049, 1050, 1051, 1052, 1053, 1054, 1055, 1056, 1057, 1058, 1059, 1060, 1061, 1062, 1063, 1064, 1065, 1066, 1067, 1068, 1069, 1070, 1071, 1072, 1073, 1074, 1075, 1076, 1077, 1078, 1079, 1080, 1081, 1082, 1083, 1084, 1085, 1086, 1087, 1088, 1089, 1090, 1091, 1092, 1093, 1094, 1095, 1096, 1097, 1098, 1099, 1100, 1101, 1102, 1103, 1104, 1105, 1106, 1107, 1108, 1109, 1110, 1111, 1112, 1113, 1114, 1115, 1116, 1117, 1118, 1119, 1120, 1121, 1122, 1123, 1124, 1125, 1126, 1127, 1128, 1129, 1130, 1131, 1132, 1133, 1134, 1135, 1136, 1137, 1138, 1139, 1140, 1141, 1142, 1143, 1144, 1145, 1146, 1147, 1148, 1149, 1150, 1151, 1152, 1153, 1154, 1155, 1156, 1157, 1158, 1159, 1160, 1161, 1162, 1163, 1164, 1165, 1166, 1167, 1168, 1169, 1170, 1171, 1172, 1173, 1174, 1175, 1176, 1177, 1178, 1179, 1180, 1181, 1182, 1183, 1184, 1185, 1186, 1187, 1188, 1189, 1190, 1191, 1192, 1193, 1194, 1195, 1196, 1197, 1198, 1199, 1200, 1201, 1202, 1203, 1204, 1205, 1206, 1207, 1208, 1209, 1210, 1211, 1212, 1213, 1214, 1215, 1216, 1217, 1218, 1219, 1220, 1221, 1222, 1223, 1224, 1225, 1226, 1227, 1228, 1229, 1230, 1231, 1232, 1233, 1234, 1235, 1236, 1237, 1238, 1239, 1240, 1241, 1242, 1243, 1244, 1245, 1246, 1247, 1248, 1249, 1250, 1251, 1252, 1253, 1254, 1255, 1256, 1257, 1258, 1259, 1260, 1261, 1262, 1263, 1264, 1265, 1266, 1267, 1268, 1269, 1270, 1271, 1272, 1273, 1274, 1275, 1276, 1277, 1278, 1279, 1280, 1281, 1282, 1283, 1284, 1285, 1286, 1287, 1288, 1289, 1290, 1291, 1292, 1293, 1294, 1295, 1296, 1297, 1298, 1299, 1300, 1301, 1302, 1303, 1304, 1305, 1306, 1307, 1308, 1309, 1310, 1311, 1312, 1313, 1314, 1315, 1316, 1317, 1318, 1319, 1320, 1321, 1322, 1323, 1324, 1325, 1326, 1327, 1328, 1329, 1330, 1331, 1332, 1333, 1334, 1335, 1336, 1337, 1338, 1339, 1340, 1341, 1342, 1343, 1344, 1345, 1346, 1347, 1348, 1349, 1350, 1351, 1352, 1353, 1354, 1355, 1356, 1357, 1358, 1359, 1360, 1361, 1362, 1363, 1364, 1365, 1366, 1367, 1368, 1369, 1370, 1371, 1372, 1373, 1374, 1375, 1376, 1377, 1378, 1379, 1380, 1381, 1382, 1383, 1384, 1385, 1386, 1387, 1388, 1389, 1390, 1391, 1392, 1393, 1394, 1395, 1396, 1397, 1398, 1399, 1400, 1401, 1402, 1403, 1404, 1405, 1406, 1407, 1408, 1409, 1410, 1411, 1412, 1413, 1414, 1415, 1416, 1417, 1418, 1419, 1420, 1421, 1422, 1423, 1424, 1425, 1426, 1427, 1428, 1429, 1430))"
      ]
     },
     "execution_count": 6,
     "metadata": {},
     "output_type": "execute_result"
    }
   ],
   "source": [
    "java_network.nodes()"
   ]
  },
  {
   "cell_type": "code",
   "execution_count": 7,
   "metadata": {},
   "outputs": [],
   "source": [
    "def greedyCover(network, skills):\n",
    "    covered_skills = set()\n",
    "    network_copy = network.copy()\n",
    "    selected_set = set()\n",
    "\n",
    "    while len(skills-covered_skills) > 0:\n",
    "        max_cover = set()\n",
    "        top_node = None\n",
    "        for node in network_copy.nodes:\n",
    "            local_skills = set(network_copy.nodes[node]['skills'])\n",
    "            # print(f\"Node Skills --> {local_skills}\")\n",
    "            if len(local_skills.intersection(skills-covered_skills)) > len(max_cover):\n",
    "                max_cover = local_skills\n",
    "                top_node = node\n",
    "        # print(f\"Best Skill set --> {max_cover}\")\n",
    "        if top_node is not None:\n",
    "            selected_set.add(top_node)\n",
    "            covered_skills = covered_skills.union(max_cover)\n",
    "            network_copy.remove_node(top_node)\n",
    "        else:\n",
    "            break\n",
    "        # print(f\"Covered Skills = {covered_skills}\")\n",
    "    return list(selected_set)"
   ]
  },
  {
   "cell_type": "code",
   "execution_count": 8,
   "metadata": {},
   "outputs": [],
   "source": [
    "cpp_best = greedyCover(cpp_network, Task_Cpp_skills)"
   ]
  },
  {
   "cell_type": "code",
   "execution_count": 9,
   "metadata": {},
   "outputs": [],
   "source": [
    "java_best = greedyCover(java_network, Task_Java_skills)"
   ]
  },
  {
   "cell_type": "code",
   "execution_count": 10,
   "metadata": {},
   "outputs": [],
   "source": [
    "web_best = greedyCover(web_network, Task_Web_skills)"
   ]
  },
  {
   "cell_type": "code",
   "execution_count": null,
   "metadata": {},
   "outputs": [],
   "source": [
    "best = []\n",
    "best.extend(cpp_best)\n",
    "best.extend(java_best)\n",
    "best.extend(web_best)\n",
    "best"
   ]
  },
  {
   "cell_type": "code",
   "execution_count": 12,
   "metadata": {},
   "outputs": [],
   "source": [
    "best_in_network = data.subgraph(best)"
   ]
  },
  {
   "cell_type": "code",
   "execution_count": 25,
   "metadata": {},
   "outputs": [],
   "source": [
    "java_best_network = data.subgraph(java_best)\n",
    "cpp_best_network = data.subgraph(cpp_best)\n",
    "web_best_network = data.subgraph(web_best)"
   ]
  },
  {
   "cell_type": "code",
   "execution_count": 13,
   "metadata": {},
   "outputs": [
    {
     "data": {
      "text/plain": [
       "{'location': 'Venezuela',\n",
       " 'skills': ['Metatrader',\n",
       "  'C++ Programming',\n",
       "  'C Programming',\n",
       "  'C# Programming',\n",
       "  'Visual Basic'],\n",
       " 'label': 'cpp'}"
      ]
     },
     "execution_count": 13,
     "metadata": {},
     "output_type": "execute_result"
    }
   ],
   "source": [
    "best_in_network.nodes[1]"
   ]
  },
  {
   "cell_type": "code",
   "execution_count": 26,
   "metadata": {},
   "outputs": [],
   "source": [
    "def distance_btn_nodes(G, source_node, target_node):\n",
    "    distance = nx.shortest_path_length(G, source=source_node, target=target_node, weight=\"weight\")\n",
    "    return distance\n",
    "\n",
    "def distance_btn_node_and_team(G, source_node, target_team):\n",
    "    distance_to_team = 0\n",
    "    for node in target_team.nodes:\n",
    "        distance_to_team = distance_to_team + distance_btn_nodes(G, source_node, node)\n",
    "    return distance_to_team\n",
    "\n",
    "def coordinator(G, source_team, target_team):\n",
    "    coordinator = None\n",
    "    min_distance = float('Inf') # Set the minimum distance to a very large number\n",
    "    for node in source_team:\n",
    "        node_distance = distance_btn_node_and_team(G, node, target_team)\n",
    "        if node_distance < min_distance:\n",
    "            min_distance = node_distance\n",
    "            coordinator = node\n",
    "    print(f\"Coordinator Distance = {min_distance}\")\n",
    "    return coordinator"
   ]
  },
  {
   "cell_type": "code",
   "execution_count": 27,
   "metadata": {},
   "outputs": [],
   "source": [
    "def find_coordinators(G, P):\n",
    "    coordinators = set()\n",
    "    \n",
    "    for (u, v) in P.edges:\n",
    "        new_coordinator = None\n",
    "        if u == 'java':\n",
    "            source_team = java_best_network\n",
    "        elif u == 'cpp':\n",
    "            source_team = cpp_best_network\n",
    "        else:\n",
    "            source_team = web_best\n",
    "\n",
    "        if v == 'java':\n",
    "            target_team = java_best_network\n",
    "        elif v == 'cpp':\n",
    "            target_team = cpp_best_network\n",
    "        else:\n",
    "            target_team = web_best_network\n",
    "\n",
    "        new_coordinator = coordinator(G, source_team, target_team)\n",
    "        coordinators.add(new_coordinator)\n",
    "    return coordinators"
   ]
  },
  {
   "cell_type": "code",
   "execution_count": 28,
   "metadata": {},
   "outputs": [
    {
     "name": "stdout",
     "output_type": "stream",
     "text": [
      "Coordinator Distance = 0.8023172670460694\n",
      "Coordinator Distance = 1.0905277443752528\n"
     ]
    },
    {
     "data": {
      "text/plain": [
       "{38, 662}"
      ]
     },
     "execution_count": 28,
     "metadata": {},
     "output_type": "execute_result"
    }
   ],
   "source": [
    "find_coordinators(data, project)"
   ]
  },
  {
   "cell_type": "code",
   "execution_count": 29,
   "metadata": {},
   "outputs": [
    {
     "data": {
      "text/plain": [
       "{'location': 'Pakistan',\n",
       " 'skills': ['Software Architecture',\n",
       "  'PHP',\n",
       "  'C++ Programming',\n",
       "  'MySQL',\n",
       "  'C Programming'],\n",
       " 'label': 'cpp'}"
      ]
     },
     "execution_count": 29,
     "metadata": {},
     "output_type": "execute_result"
    }
   ],
   "source": [
    "data.nodes[38]"
   ]
  },
  {
   "cell_type": "code",
   "execution_count": 30,
   "metadata": {},
   "outputs": [
    {
     "data": {
      "text/plain": [
       "{'location': 'India',\n",
       " 'skills': ['HTML', 'PHP', 'Sharepoint', 'Website Design', 'eCommerce'],\n",
       " 'label': 'java'}"
      ]
     },
     "execution_count": 30,
     "metadata": {},
     "output_type": "execute_result"
    }
   ],
   "source": [
    "data.nodes[662]"
   ]
  },
  {
   "cell_type": "code",
   "execution_count": 31,
   "metadata": {},
   "outputs": [
    {
     "name": "stdout",
     "output_type": "stream",
     "text": [
      "Coordinator Distance = 1.8489753253435084\n"
     ]
    },
    {
     "data": {
      "text/plain": [
       "1433"
      ]
     },
     "execution_count": 31,
     "metadata": {},
     "output_type": "execute_result"
    }
   ],
   "source": [
    "merged_graph = nx.compose(cpp_best_network, java_best_network)\n",
    "coordinator(data, web_best_network, merged_graph)"
   ]
  },
  {
   "cell_type": "code",
   "execution_count": 32,
   "metadata": {},
   "outputs": [],
   "source": [
    "web_to_cpp_coordinator = coordinator(data, web_best_network, cpp_best_network)\n",
    "print(f\"Coordinator from Web to Cpp team is : {web_to_cpp_coordinator}\")\n",
    "web_to_java_coordinator = coordinator(data, web_best_network, java_best_network)\n",
    "print(f\"\\nCoordinator from Web to Cpp team is : {web_to_java_coordinator}\")"
   ]
  }
 ],
 "metadata": {
  "kernelspec": {
   "display_name": "Python 3",
   "language": "python",
   "name": "python3"
  },
  "language_info": {
   "codemirror_mode": {
    "name": "ipython",
    "version": 3
   },
   "file_extension": ".py",
   "mimetype": "text/x-python",
   "name": "python",
   "nbconvert_exporter": "python",
   "pygments_lexer": "ipython3",
   "version": "3.10.5"
  }
 },
 "nbformat": 4,
 "nbformat_minor": 2
}
