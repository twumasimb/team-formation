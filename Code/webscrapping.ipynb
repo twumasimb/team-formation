{
 "cells": [
  {
   "cell_type": "code",
   "execution_count": 59,
   "metadata": {},
   "outputs": [],
   "source": [
    "import requests\n",
    "from bs4 import BeautifulSoup\n",
    "import demjson\n",
    "import pickle"
   ]
  },
  {
   "cell_type": "code",
   "execution_count": 60,
   "metadata": {},
   "outputs": [
    {
     "name": "stdout",
     "output_type": "stream",
     "text": [
      "We got in!\n",
      "\n",
      "There are : 21  listed freelancers\n"
     ]
    }
   ],
   "source": [
    "# URL of the website to scrape\n",
    "url = \"https://www.guru.com/d/freelancers/srt/earn/\"\n",
    "\n",
    "# Send an HTTP GET request to the URL\n",
    "response = requests.get(url)\n",
    "\n",
    "# Check if the request was successful\n",
    "if response.status_code == 200:\n",
    "    # Parse the HTML content of the page using BeautifulSoup\n",
    "    soup1 = BeautifulSoup(response.content, 'html.parser')\n",
    "    print(\"We got in!\")\n",
    "\n",
    "    # Save the HTML data to a file\n",
    "    with open(\"webpage_1.html\", \"w\", encoding=\"utf-8\") as file:\n",
    "        file.write(soup1.prettify())\n",
    "else:\n",
    "    print(\"Failed to retrieve the web page.\")\n",
    "\n",
    "# Create a list to store dictionaries\n",
    "job_data = []\n",
    "id = 0\n",
    "\n",
    "file_path = \"webpage_1.html\"  # Replace with the path to your saved HTML file\n",
    "\n",
    "try:\n",
    "    # Open the file for reading\n",
    "    with open(file_path, \"r\", encoding=\"utf-8\") as file:\n",
    "        html_content = file.read()\n",
    "\n",
    "except FileNotFoundError:\n",
    "    print(\"File not found:\", file_path)\n",
    "except Exception as e:\n",
    "    print(\"An error occurred:\", str(e))\n",
    "\n",
    "soup = BeautifulSoup(html_content, 'html.parser')\n",
    "\n",
    "job_data = [list[':data'] for list in soup.find_all('freelancer-record')]\n",
    "\n",
    "print()\n",
    "\n",
    "print(\"There are :\", len(job_data), \" listed freelancers\")"
   ]
  },
  {
   "cell_type": "code",
   "execution_count": 61,
   "metadata": {},
   "outputs": [
    {
     "name": "stdout",
     "output_type": "stream",
     "text": [
      "20\n"
     ]
    }
   ],
   "source": [
    "all_skills = []\n",
    "for freelancer in soup.find_all('freelancer-record'):\n",
    "    individual_skill = [skill.get_text().strip() for skill in freelancer.select(\".skillsList__skill--hasHover\")]\n",
    "    all_skills.append(individual_skill)\n",
    "\n",
    "all_skills.pop(all_skills.index(all_skills[0]))\n",
    "print(len(all_skills))"
   ]
  },
  {
   "cell_type": "code",
   "execution_count": 62,
   "metadata": {},
   "outputs": [
    {
     "data": {
      "text/plain": [
       "'result'"
      ]
     },
     "execution_count": 62,
     "metadata": {},
     "output_type": "execute_result"
    }
   ],
   "source": [
    "# Taking out \"results\".\n",
    "job_data.pop(job_data.index(job_data[0]))"
   ]
  },
  {
   "cell_type": "code",
   "execution_count": 63,
   "metadata": {},
   "outputs": [
    {
     "data": {
      "text/plain": [
       "\"{\\n\\n\\t\\t\\t\\t\\t\\t\\t\\t\\t\\t\\t\\t\\t\\tGuruId: 314056,\\n\\n\\t\\t\\t\\t\\t\\t\\t\\t\\t\\t\\t\\t\\t\\tProfileLink: '/freelancers/scopic',\\n\\n\\t\\t\\t\\t\\t\\t\\t\\t\\t\\t\\t\\t\\t\\tRevenue12: 1031048,\\n\\n\\t\\t\\t\\t\\t\\t\\t\\t\\t\\t\\t\\t\\t\\tThumbnail: 'https://res.cloudinary.com/gurucom/image/upload/pimg/0/314/314056/Scopic%20logo%20with%20extra%20fields_637402955178368445_guruImgExtraLarge048c3f15-027f-44fc-8b92-6bf8ee3da2d2.jpg',\\n\\n\\t\\t\\t\\t\\t\\t\\t\\t\\t\\t\\t\\t\\t\\tScreenName: 'Scopic',\\n\\n\\t\\t\\t\\t\\t\\t\\t\\t\\t\\t\\t\\t\\t\\tAvgFeedback12: 100,\\n\\n\\t\\t\\t\\t\\t\\t\\t\\t\\t\\t\\t\\t\\t\\tCity: 'Rutland',\\n\\n\\t\\t\\t\\t\\t\\t\\t\\t\\t\\t\\t\\t\\t\\tProvince: 'Massachusetts',\\n\\n\\t\\t\\t\\t\\t\\t\\t\\t\\t\\t\\t\\t\\t\\tCountry: 'United States',\\n\\n\\t\\t\\t\\t\\t\\t\\t\\t\\t\\t\\t\\t\\t\\tServiceId: 301,\\n\\n\\t\\t\\t\\t\\t\\t\\t\\t\\t\\t\\t\\t\\t\\tServiceCoverImage: 'https://res.cloudinary.com/gurucom/image/upload/pimg/0/314/314056/Screen Shot 2016-10-17 at 6.46.09 PM_85b70fad-0c1f-476a-965f-50769025b48e.png',\\n\\n\\t\\t\\t\\t\\t\\t\\t\\t\\t\\t\\t\\t\\t\\tFeedbackReviews: 2,\\n\\n\\t\\t\\t\\t\\t\\t\\t\\t\\t\\t\\t\\t\\t\\tServiceCount: 29,\\n\\n\\t\\t\\t\\t\\t\\t\\t\\t\\t\\t\\t\\t\\t\\tPortfolioCount: 15,\\n\\n\\t\\t\\t\\t\\t\\t\\t\\t\\t\\t\\t\\t\\t\\tPortfolioIds: '46,112218,578653,578668,578674,578677',\\n\\n\\t\\t\\t\\t\\t\\t\\t\\t\\t\\t\\t\\t\\t\\tProfileVideoURL: '',\\n\\n\\t\\t\\t\\t\\t\\t\\t\\t\\t\\t\\t\\t\\t\\tIsWhatsAppConnectAllowed: false\\n\\n\\t\\t\\t\\t\\t\\t\\t\\t\\t\\t\\t\\t\\t}\""
      ]
     },
     "execution_count": 63,
     "metadata": {},
     "output_type": "execute_result"
    }
   ],
   "source": [
    "job_data[0]"
   ]
  },
  {
   "cell_type": "code",
   "execution_count": 64,
   "metadata": {},
   "outputs": [
    {
     "name": "stdout",
     "output_type": "stream",
     "text": [
      "[{'GuruId': 314056, 'ProfileLink': '/freelancers/scopic', 'Revenue12': 1031048, 'Thumbnail': 'https://res.cloudinary.com/gurucom/image/upload/pimg/0/314/314056/Scopic%20logo%20with%20extra%20fields_637402955178368445_guruImgExtraLarge048c3f15-027f-44fc-8b92-6bf8ee3da2d2.jpg', 'ScreenName': 'Scopic', 'AvgFeedback12': 100, 'City': 'Rutland', 'Province': 'Massachusetts', 'Country': 'United States', 'ServiceId': 301, 'ServiceCoverImage': 'https://res.cloudinary.com/gurucom/image/upload/pimg/0/314/314056/Screen Shot 2016-10-17 at 6.46.09 PM_85b70fad-0c1f-476a-965f-50769025b48e.png', 'FeedbackReviews': 2, 'ServiceCount': 29, 'PortfolioCount': 15, 'PortfolioIds': '46,112218,578653,578668,578674,578677', 'ProfileVideoURL': '', 'IsWhatsAppConnectAllowed': False}, {'GuruId': 3512750, 'ProfileLink': '/freelancers/zco-u', 'Revenue12': 461904, 'Thumbnail': 'https://res.cloudinary.com/gurucom/image/upload/v1626815718/pimg/FreelancerFiles/3/512/3512750/r4dgry5cvlgxhokzzpkd.jpg', 'ScreenName': 'Zco U.', 'AvgFeedback12': 100, 'City': 'Oakland', 'Province': 'California', 'Country': 'United States', 'ServiceId': 5110318, 'ServiceCoverImage': 'https://res.cloudinary.com/gurucom/image/upload/v1645382809/pimg/FreelancerFiles/3/512/3512750/ulhdfym4ic844n4x248z.png', 'FeedbackReviews': 0, 'ServiceCount': 12, 'PortfolioCount': 1, 'PortfolioIds': '1036764', 'ProfileVideoURL': '', 'IsWhatsAppConnectAllowed': False}, {'GuruId': 3380969, 'ProfileLink': '/freelancers/prosessor-ai', 'Revenue12': 430231, 'Thumbnail': 'https://res.cloudinary.com/gurucom/image/upload/pimg/3/380/3380969/Prosessor_Black%20-%20Kopya_637346441208336799_guruImgExtraLarge95a18f06-cc9d-4b96-a6cb-3d12d0a94098.jpg', 'ScreenName': 'Prosessor-AI', 'AvgFeedback12': 100, 'City': 'Hamburg', 'Province': 'Hamburg', 'Country': 'Germany', 'ServiceId': 5345415, 'ServiceCoverImage': 'https://res.cloudinary.com/gurucom/image/upload/v1691413917/pimg/FreelancerFiles/3/380/3380969/pc1yi66w5d0ir6uev5uo.png', 'FeedbackReviews': 0, 'ServiceCount': 0, 'PortfolioCount': 0, 'PortfolioIds': '', 'ProfileVideoURL': '', 'IsWhatsAppConnectAllowed': False}, {'GuruId': 2178498, 'ProfileLink': '/freelancers/top-guru-assistants', 'Revenue12': 341700, 'Thumbnail': 'https://res.cloudinary.com/gurucom/image/upload/pimg/2/178/2178498/Scarlet%20Star_636363191916843130_guruImgLarge_49d91f6d-2e51-46dc-ba34-cec17ab65eeb.jpg', 'ScreenName': 'Top Guru Assistants', 'AvgFeedback12': 99.1999969482422, 'City': 'New Delhi', 'Province': 'Delhi', 'Country': 'India', 'ServiceId': 3956149, 'ServiceCoverImage': 'https://res.cloudinary.com/gurucom/image/upload/v1615733709/pimg/FreelancerFiles/2/178/2178498/bkhc7uf7dylfhzach4ca.jpg', 'FeedbackReviews': 15, 'ServiceCount': 126, 'PortfolioCount': 57, 'PortfolioIds': '516325,516333,516335,517398,517399,517414', 'ProfileVideoURL': 'https://youtu.be/VDWS0umGWSg', 'IsWhatsAppConnectAllowed': True}, {'GuruId': 538436, 'ProfileLink': '/freelancers/nix-agency', 'Revenue12': 261190, 'Thumbnail': 'https://res.cloudinary.com/gurucom/image/upload/pimg/0/538/538436/Screen%20Shot%202020-05-25%20at%2018.24.28_637260188868286030_guruImgLarge_781464e4-8a61-4234-bdfe-b27beac7c6ca.png', 'ScreenName': 'NIX-agency', 'AvgFeedback12': 100, 'City': 'Kfar Saba', 'Province': 'Tel Aviv', 'Country': 'Israel', 'ServiceId': 5107041, 'ServiceCoverImage': 'https://res.cloudinary.com/gurucom/image/upload/v1644335329/pimg/FreelancerFiles/0/538/538436/oiwbdgzevsfmhqk7psjx.png', 'FeedbackReviews': 21, 'ServiceCount': 12, 'PortfolioCount': 0, 'PortfolioIds': '', 'ProfileVideoURL': '', 'IsWhatsAppConnectAllowed': False}, {'GuruId': 1223797, 'ProfileLink': '/freelancers/suretek-infosoft-pvt-ltd', 'Revenue12': 258383, 'Thumbnail': 'https://res.cloudinary.com/gurucom/image/upload/pimg/1/223/1223797/suretek2_635637255808190371_guruImgLarge_2f7a3ef1-46c1-48e7-892f-5d9bb702b4da.jpg', 'ScreenName': 'Suretek Infosoft Pvt. Ltd.', 'AvgFeedback12': 100, 'City': 'Noida', 'Province': 'Uttar Pradesh', 'Country': 'India', 'ServiceId': 42948, 'ServiceCoverImage': 'https://res.cloudinary.com/gurucom/image/upload/pimg/1/223/1223797/^1F4C13A19F8CC0B912752E9EF6312AAD38AA605BE4645354A1^pimgpsh_fullsize_distr_e93d6de0-8fe7-4285-89a8-ed085429e181.png', 'FeedbackReviews': 4, 'ServiceCount': 37, 'PortfolioCount': 5, 'PortfolioIds': '11641,11643,219040,661188,661231', 'ProfileVideoURL': '', 'IsWhatsAppConnectAllowed': False}, {'GuruId': 3515280, 'ProfileLink': '/freelancers/toltecs-information-technology', 'Revenue12': 255500, 'Thumbnail': 'https://res.cloudinary.com/gurucom/image/upload/v1631629783/pimg/FreelancerFiles/3/515/3515280/lzxzoke05qp4t1pgk43v.jpg', 'ScreenName': 'TOLTECS INFORMATION TECHNOLOGY', 'AvgFeedback12': 100, 'City': 'Dubai', 'Province': 'Dubai', 'Country': 'United Arab Emirates', 'ServiceId': 4882215, 'ServiceCoverImage': 'https://res.cloudinary.com/gurucom/image/upload/v1644802409/pimg/FreelancerFiles/3/515/3515280/gpsckb5viah6xis9kytg.jpg', 'FeedbackReviews': 2, 'ServiceCount': 3, 'PortfolioCount': 0, 'PortfolioIds': '', 'ProfileVideoURL': '', 'IsWhatsAppConnectAllowed': True}, {'GuruId': 2753492, 'ProfileLink': '/freelancers/yanbin-pang', 'Revenue12': 240103, 'Thumbnail': 'https://res.cloudinary.com/gurucom/image/upload/pimg/2/753/2753492/IMG_4865_636957880243685234_guruImgLarge_2b16ac34-46d3-4a7d-817c-4bbd32cd54bf.png', 'ScreenName': 'YanBin Pang', 'AvgFeedback12': 100, 'City': 'Dandong', 'Province': 'Liaoning', 'Country': 'China', 'ServiceId': 4360905, 'ServiceCoverImage': 'https://res.cloudinary.com/gurucom/image/upload/static/DefaultServiceCoverImgs/defaultsvcover_programming.jpg', 'FeedbackReviews': 0, 'ServiceCount': 0, 'PortfolioCount': 0, 'PortfolioIds': '', 'ProfileVideoURL': '', 'IsWhatsAppConnectAllowed': False}, {'GuruId': 1193430, 'ProfileLink': '/freelancers/hardworker1989', 'Revenue12': 238676, 'Thumbnail': 'https://res.cloudinary.com/gurucom/image/upload/v1645627144/pimg/FreelancerFiles/1/193/1193430/ouxqzre1wjf9q718rlfo.jpg', 'ScreenName': 'hardworker1989', 'AvgFeedback12': 100, 'City': 'Karachi', 'Province': 'Sindh', 'Country': 'Pakistan', 'ServiceId': 5322740, 'ServiceCoverImage': 'https://res.cloudinary.com/gurucom/image/upload/v1687296077/pimg/FreelancerFiles/1/193/1193430/uz50elkltd6lfo8pr4wl.jpg', 'FeedbackReviews': 2, 'ServiceCount': 3, 'PortfolioCount': 2, 'PortfolioIds': '1282758,1282759', 'ProfileVideoURL': '', 'IsWhatsAppConnectAllowed': False}, {'GuruId': 3523713, 'ProfileLink': '/freelancers/abdullah-ateya', 'Revenue12': 238655, 'Thumbnail': 'https://res.cloudinary.com/gurucom/image/upload/pimg/3/523/3523713/1_637375019721523117_guruImgExtraLargea3e97f9c-81ba-4004-a4fc-09fe4053a828.jpg', 'ScreenName': 'Abdullah Ateya', 'AvgFeedback12': 100, 'City': 'istanbul', 'Province': 'Istanbul', 'Country': 'Turkey', 'ServiceId': 4887216, 'ServiceCoverImage': 'https://res.cloudinary.com/gurucom/image/upload/v1684389163/pimg/FreelancerFiles/3/523/3523713/wj6dljm6sstzh6az4gz3.jpg', 'FeedbackReviews': 0, 'ServiceCount': 0, 'PortfolioCount': 0, 'PortfolioIds': '', 'ProfileVideoURL': '', 'IsWhatsAppConnectAllowed': False}, {'GuruId': 3284198, 'ProfileLink': '/freelancers/bryan1', 'Revenue12': 238624, 'Thumbnail': 'https://res.cloudinary.com/gurucom/image/upload/v1665304018/pimg/FreelancerFiles/3/284/3284198/kaplt4bjl2f6oaqs24fo.png', 'ScreenName': 'Bryan1', 'AvgFeedback12': 97.1999969482422, 'City': 'Pittsburgh', 'Province': 'Pennsylvania', 'Country': 'United States', 'ServiceId': 4722613, 'ServiceCoverImage': 'https://res.cloudinary.com/gurucom/image/upload/v1611110570/pimg/FreelancerFiles/3/284/3284198/z6rgtdncwyhqnmjwm7u6.png', 'FeedbackReviews': 2, 'ServiceCount': 9, 'PortfolioCount': 4, 'PortfolioIds': '1239468,1239469,1239470,1239471', 'ProfileVideoURL': '', 'IsWhatsAppConnectAllowed': False}, {'GuruId': 3587209, 'ProfileLink': '/freelancers/steve-y', 'Revenue12': 237603, 'Thumbnail': 'https://res.cloudinary.com/gurucom/image/upload/v1677847219/pimg/FreelancerFiles/3/587/3587209/uzmse9bt82strvxtk0uh.jpg', 'ScreenName': 'Steve Y.', 'AvgFeedback12': 99.0999984741211, 'City': 'Lakeville', 'Province': 'Minnesota', 'Country': 'United States', 'ServiceId': 5283858, 'ServiceCoverImage': 'https://res.cloudinary.com/gurucom/image/upload/v1680050872/pimg/FreelancerFiles/3/587/3587209/tqrddcicnnujpbcwmudn.png', 'FeedbackReviews': 8, 'ServiceCount': 12, 'PortfolioCount': 1, 'PortfolioIds': '1241716', 'ProfileVideoURL': '', 'IsWhatsAppConnectAllowed': False}, {'GuruId': 2714816, 'ProfileLink': '/freelancers/emil-alexandrescu', 'Revenue12': 233348, 'Thumbnail': 'https://res.cloudinary.com/gurucom/image/upload/static/default-user.png', 'ScreenName': 'Emil Alexandrescu', 'AvgFeedback12': 100, 'City': 'Bucuresti', 'Province': 'Bucuresti', 'Country': 'Romania', 'ServiceId': 4336732, 'ServiceCoverImage': 'https://res.cloudinary.com/gurucom/image/upload/static/DefaultServiceCoverImgs/defaultsvcover_programming.jpg', 'FeedbackReviews': 0, 'ServiceCount': 1, 'PortfolioCount': 0, 'PortfolioIds': '', 'ProfileVideoURL': '', 'IsWhatsAppConnectAllowed': False}, {'GuruId': 482125, 'ProfileLink': '/freelancers/smart-software-solutions-inc-482125', 'Revenue12': 182699, 'Thumbnail': 'https://res.cloudinary.com/gurucom/image/upload/pimg/0/482/482125/SmartSoftware_MousePad_mockup_635217851160613927_guruImgLarge_ebcd6cee-5ced-4cb3-82b0-befba3bdfb70.png', 'ScreenName': 'Smart Software Solutions, Inc.', 'AvgFeedback12': 100, 'City': 'Pierre', 'Province': 'South Dakota', 'Country': 'United States', 'ServiceId': 13629, 'ServiceCoverImage': 'https://res.cloudinary.com/gurucom/image/upload/pimg/0/482/482125/Appliance Parts and Accessories, Repair Appliance Parts, Discount Parts - ApplianceZone.com.clipular_deecdc09-1a47-4980-85ee-eb614069d47a.png', 'FeedbackReviews': 0, 'ServiceCount': 8, 'PortfolioCount': 3, 'PortfolioIds': '4896,5082,552774', 'ProfileVideoURL': '', 'IsWhatsAppConnectAllowed': False}, {'GuruId': 2753503, 'ProfileLink': '/freelancers/yu-dai', 'Revenue12': 168913, 'Thumbnail': 'https://res.cloudinary.com/gurucom/image/upload/static/default-user.png', 'ScreenName': 'Yu Dai', 'AvgFeedback12': 100, 'City': 'Dandong', 'Province': 'Liaoning', 'Country': 'China', 'ServiceId': 4360911, 'ServiceCoverImage': 'https://res.cloudinary.com/gurucom/image/upload/static/DefaultServiceCoverImgs/defaultsvcover_programming.jpg', 'FeedbackReviews': 0, 'ServiceCount': 0, 'PortfolioCount': 0, 'PortfolioIds': '', 'ProfileVideoURL': '', 'IsWhatsAppConnectAllowed': False}, {'GuruId': 503097, 'ProfileLink': '/freelancers/avion-technology-inc-chicago', 'Revenue12': 149858, 'Thumbnail': 'https://res.cloudinary.com/gurucom/image/upload/pimg/0/503/503097/guru_icon_avion_635270939309235011_guruImgLarge_ecccc782-c30d-4ccb-a751-73f60e78e08d.png', 'ScreenName': 'Avion-Technology-Inc-Chicago', 'AvgFeedback12': 100, 'City': 'Arlington Heights', 'Province': 'Illinois', 'Country': 'United States', 'ServiceId': 20348, 'ServiceCoverImage': 'https://res.cloudinary.com/gurucom/image/upload/pimg/0/503/503097/2RCode   _a7f81887-4eb7-4657-8c73-4d8e2236cbbe.png', 'FeedbackReviews': 12, 'ServiceCount': 18, 'PortfolioCount': 2, 'PortfolioIds': '10546,136994', 'ProfileVideoURL': '//www.youtube.com/embed/bWeeKEa4bzg', 'IsWhatsAppConnectAllowed': False}, {'GuruId': 3564755, 'ProfileLink': '/freelancers/nicole-lunan', 'Revenue12': 135124, 'Thumbnail': 'https://res.cloudinary.com/gurucom/image/upload/pimg/3/564/3564755/fullsizeoutput_677_637407362734441747_guruImgExtraLarge7220878c-e48f-45df-83c5-32b306895068.jpeg', 'ScreenName': 'Nicole Lunan', 'AvgFeedback12': 100, 'City': 'Carson', 'Province': 'California', 'Country': 'United States', 'ServiceId': 4910955, 'ServiceCoverImage': 'https://res.cloudinary.com/gurucom/image/upload/static/DefaultServiceCoverImgs/defaultsvcover_sales_marketing.jpg', 'FeedbackReviews': 0, 'ServiceCount': 0, 'PortfolioCount': 0, 'PortfolioIds': '', 'ProfileVideoURL': '', 'IsWhatsAppConnectAllowed': False}, {'GuruId': 3466144, 'ProfileLink': '/freelancers/full-stack-developer-duc-nguyen', 'Revenue12': 133444, 'Thumbnail': 'https://res.cloudinary.com/gurucom/image/upload/pimg/3/466/3466144/profile_637412184437836967_guruImgExtraLargebb74d90b-7440-4ea6-b162-458274c07da6.jpg', 'ScreenName': 'Full Stack Developer - Duc Nguyen', 'AvgFeedback12': 99.6999969482422, 'City': 'Chandler', 'Province': 'Arizona', 'Country': 'United States', 'ServiceId': 4971639, 'ServiceCoverImage': 'https://res.cloudinary.com/gurucom/image/upload/v1614305326/pimg/FreelancerFiles/3/466/3466144/m5apidmtowdhjjo82top.jpg', 'FeedbackReviews': 9, 'ServiceCount': 2, 'PortfolioCount': 0, 'PortfolioIds': '', 'ProfileVideoURL': '', 'IsWhatsAppConnectAllowed': True}, {'GuruId': 3340232, 'ProfileLink': '/freelancers/andriy-taran', 'Revenue12': 124823, 'Thumbnail': 'https://res.cloudinary.com/gurucom/image/upload/v1610421453/pimg/FreelancerFiles/3/340/3340232/ks3cscmoswmf1wcqnwkn.jpg', 'ScreenName': 'Andriy Taran', 'AvgFeedback12': 100, 'City': 'Poughkeepsie', 'Province': 'New York', 'Country': 'United States', 'ServiceId': 4764270, 'ServiceCoverImage': 'https://res.cloudinary.com/gurucom/image/upload/static/DefaultServiceCoverImgs/defaultsvcover_programming.jpg', 'FeedbackReviews': 0, 'ServiceCount': 0, 'PortfolioCount': 0, 'PortfolioIds': '', 'ProfileVideoURL': '', 'IsWhatsAppConnectAllowed': False}, {'GuruId': 561686, 'ProfileLink': '/freelancers/j-consulting', 'Revenue12': 118113, 'Thumbnail': 'https://res.cloudinary.com/gurucom/image/upload/static/default-user.png', 'ScreenName': 'J Consulting', 'AvgFeedback12': 100, 'City': 'Irving', 'Province': 'Texas', 'Country': 'United States', 'ServiceId': 1090, 'ServiceCoverImage': 'https://res.cloudinary.com/gurucom/image/upload/static/DefaultServiceCoverImgs/defaultsvcover_programming.jpg', 'FeedbackReviews': 0, 'ServiceCount': 0, 'PortfolioCount': 0, 'PortfolioIds': '', 'ProfileVideoURL': '', 'IsWhatsAppConnectAllowed': False}]\n"
     ]
    }
   ],
   "source": [
    "job_dicts = [demjson.decode(item) for item in job_data]\n",
    "print(job_dicts)"
   ]
  },
  {
   "cell_type": "code",
   "execution_count": 65,
   "metadata": {},
   "outputs": [],
   "source": [
    "# Save dictionary data to a Pickle file\n",
    "with open(\"data.pkl\", \"wb\") as pickle_file:\n",
    "    for data in job_dicts:\n",
    "        pickle.dump(data, pickle_file)"
   ]
  },
  {
   "cell_type": "code",
   "execution_count": 104,
   "metadata": {},
   "outputs": [
    {
     "name": "stdout",
     "output_type": "stream",
     "text": [
      "15\n"
     ]
    }
   ],
   "source": [
    "# Source dictionary\n",
    "source = [{\"key1\": 3, \"key2\": \"value2\", \"key3\": \"value3\"}, \n",
    "          {\"key1\": 5, \"key2\": \"value2\", \"key3\": \"value3\"},\n",
    "          {\"key1\": 7, \"key2\": \"value2\", \"key3\": \"value3\"}]\n",
    "\n",
    "score = sum([data['key1'] for data in source])\n",
    "print(score)"
   ]
  },
  {
   "cell_type": "code",
   "execution_count": 101,
   "metadata": {},
   "outputs": [
    {
     "name": "stdout",
     "output_type": "stream",
     "text": [
      "\n",
      "{'id': 314056, 'score': 33.5, 'skills': ['3D', '3D Scanning', 'Augmented Reality', 'Blockchain', 'C#']}\n",
      "<class 'dict'>\n"
     ]
    }
   ],
   "source": [
    "class MyClass:\n",
    "    def __init__(self):\n",
    "        # Define class attributes to hold values from the dictionary\n",
    "        self.id = None\n",
    "        self.rating = 0\n",
    "        self.reviews = 0\n",
    "        self.revenue = 0\n",
    "        self.country = None\n",
    "        self.services = None\n",
    "        self.skills = None\n",
    "\n",
    "    def assign_values(self, data):\n",
    "        # Assign values from the dictionary to the class attributes\n",
    "        self.id = data.get(\"GuruId\")\n",
    "        self.rating = data.get(\"AvgFeedback12\")\n",
    "        self.reviews = data.get(\"FeedbackReviews\")\n",
    "        self.revenue = data.get(\"Revenue12\")\n",
    "        self.country = data.get(\"Country\")\n",
    "        self.services = data.get(\"ServiceCount\")\n",
    "\n",
    "    def assign_skills(self, skills):\n",
    "        \"\"\"\n",
    "        Assign each user his/her skillsets.\n",
    "        \"\"\"\n",
    "        self.skills = skills\n",
    "\n",
    "    def __str__(self):\n",
    "        dictionary = {\n",
    "            'id': self.id,\n",
    "            'rating': self.rating,\n",
    "            'reviews': self.reviews,\n",
    "            'revenue': self.revenue,\n",
    "            'country': self.country,\n",
    "            'services': self.services,\n",
    "            'skills': self.skills\n",
    "        }\n",
    "        return f\"{dictionary}\"\n",
    "\n",
    "    def get_score(self):\n",
    "        experience_score = ((self.reviews*self.rating)/100)\n",
    "        skill_score = (0.5*(len(self.skills)) + self.services)\n",
    "        score = experience_score + skill_score\n",
    "        return round(score, 1)\n",
    "\n",
    "    def usr(self):\n",
    "        dictionary = {\n",
    "            'id': self.id,\n",
    "            'score': self.get_score(),\n",
    "            'skills': self.skills\n",
    "        }\n",
    "        return dictionary\n",
    "\n",
    "# Create an instance of MyClass\n",
    "\n",
    "\n",
    "user_profile = []\n",
    "users = []\n",
    "\n",
    "for data in job_dicts:\n",
    "\n",
    "    user = MyClass()\n",
    "\n",
    "    # Assign values from the dictionary to the instance attributes\n",
    "    user.assign_values(data)\n",
    "\n",
    "    # print(user)\n",
    "\n",
    "    user_profile.append(user)\n",
    "\n",
    "i = 0\n",
    "for i in range(len(all_skills)):\n",
    "    user_profile[i].assign_skills(all_skills[i])\n",
    "\n",
    "print()\n",
    "users = [user_profile[i].usr() for i in range(len(user_profile))]\n",
    "\n",
    "print(user_profile[0].usr())\n",
    "print(type(user_profile[0].usr()))"
   ]
  },
  {
   "cell_type": "code",
   "execution_count": 103,
   "metadata": {},
   "outputs": [],
   "source": [
    "sorted_data = sorted(users, key=lambda x: x[\"score\"], reverse=True)"
   ]
  },
  {
   "cell_type": "code",
   "execution_count": 96,
   "metadata": {},
   "outputs": [],
   "source": [
    "for data in user_profile:\n",
    "    pickle.dump(data, open(\"data.pkl\", \"wb\"))"
   ]
  },
  {
   "cell_type": "code",
   "execution_count": 97,
   "metadata": {},
   "outputs": [
    {
     "name": "stdout",
     "output_type": "stream",
     "text": [
      "{'id': 561686, 'rating': 100, 'reviews': None, 'revenue': 118113, 'country': 'United States', 'services': 0, 'skills': ['.NET', 'Access', 'Ado', 'Analysis', 'Angular']}\n"
     ]
    }
   ],
   "source": [
    "with open(\"data.pkl\", 'rb') as pickle_file:\n",
    "    loaded_data = pickle.load(pickle_file)\n",
    "\n",
    "print(loaded_data)"
   ]
  },
  {
   "cell_type": "code",
   "execution_count": 88,
   "metadata": {},
   "outputs": [
    {
     "name": "stdout",
     "output_type": "stream",
     "text": [
      "Data saved to data.pkl\n"
     ]
    }
   ],
   "source": [
    "import pickle\n",
    "\n",
    "# List of data to be saved\n",
    "data_list = [1, 2, 3, 4, 5]\n",
    "\n",
    "# Open the pickle file for appending\n",
    "with open(\"data.pkl\", \"ab+\") as pickle_file:\n",
    "    # Iterate over the list and save each item to the pickle file\n",
    "    for item in data_list:\n",
    "        pickle.dump(item, pickle_file)\n",
    "\n",
    "# Done saving, close the pickle file\n",
    "print(\"Data saved to data.pkl\")"
   ]
  },
  {
   "cell_type": "code",
   "execution_count": 99,
   "metadata": {},
   "outputs": [
    {
     "name": "stdout",
     "output_type": "stream",
     "text": [
      "10\n"
     ]
    }
   ],
   "source": [
    "value = 10\n",
    "result = value or 0\n",
    "\n",
    "print(result)  # Output: 0\n"
   ]
  },
  {
   "cell_type": "code",
   "execution_count": 112,
   "metadata": {},
   "outputs": [
    {
     "name": "stdout",
     "output_type": "stream",
     "text": [
      "200 combination 15 = 14629416353818682834880\n"
     ]
    }
   ],
   "source": [
    "import math\n",
    "\n",
    "n = 200\n",
    "r = 15\n",
    "\n",
    "combinations = math.comb(n, r)\n",
    "\n",
    "print(f\"{n} combination {r} = {combinations}\")\n"
   ]
  },
  {
   "cell_type": "code",
   "execution_count": 26,
   "metadata": {},
   "outputs": [],
   "source": [
    "def harmonic_number(n):\n",
    "    num = 0\n",
    "    for i in range(1, n+1):\n",
    "        num = num + (1/i)\n",
    "    return num"
   ]
  },
  {
   "cell_type": "code",
   "execution_count": 27,
   "metadata": {},
   "outputs": [
    {
     "data": {
      "text/plain": [
       "1.8333333333333333"
      ]
     },
     "execution_count": 27,
     "metadata": {},
     "output_type": "execute_result"
    }
   ],
   "source": [
    "harmonic_number(3)"
   ]
  },
  {
   "cell_type": "code",
   "execution_count": 29,
   "metadata": {},
   "outputs": [
    {
     "data": {
      "text/plain": [
       "1.6758222886681098"
      ]
     },
     "execution_count": 29,
     "metadata": {},
     "output_type": "execute_result"
    }
   ],
   "source": [
    "import math\n",
    "math.log(3) + 0.57721"
   ]
  },
  {
   "cell_type": "code",
   "execution_count": 30,
   "metadata": {},
   "outputs": [
    {
     "data": {
      "text/plain": [
       "1.8333333333333333"
      ]
     },
     "execution_count": 30,
     "metadata": {},
     "output_type": "execute_result"
    }
   ],
   "source": [
    "11/6"
   ]
  },
  {
   "cell_type": "code",
   "execution_count": null,
   "metadata": {},
   "outputs": [],
   "source": []
  }
 ],
 "metadata": {
  "kernelspec": {
   "display_name": "Python 3",
   "language": "python",
   "name": "python3"
  },
  "language_info": {
   "codemirror_mode": {
    "name": "ipython",
    "version": 3
   },
   "file_extension": ".py",
   "mimetype": "text/x-python",
   "name": "python",
   "nbconvert_exporter": "python",
   "pygments_lexer": "ipython3",
   "version": "3.9.0"
  },
  "orig_nbformat": 4
 },
 "nbformat": 4,
 "nbformat_minor": 2
}
