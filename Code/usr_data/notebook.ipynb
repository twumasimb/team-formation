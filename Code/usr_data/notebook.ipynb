{
 "cells": [
  {
   "cell_type": "code",
   "execution_count": 1,
   "metadata": {},
   "outputs": [],
   "source": [
    "import networkx as nx\n",
    "import random\n",
    "import pickle\n",
    "import utils"
   ]
  },
  {
   "cell_type": "code",
   "execution_count": 2,
   "metadata": {},
   "outputs": [],
   "source": [
    "network =  pickle.load(open('network_data.pkl', 'rb'))"
   ]
  },
  {
   "cell_type": "code",
   "execution_count": 3,
   "metadata": {},
   "outputs": [],
   "source": [
    "list_1 = [('software', 'design'), ('software', 'cyber'),\n",
    "          ('software', 'sales'), ('software', 'advert')]  # Star\n",
    "list_2 = [('software', 'design'), ('software', 'cyber'), ('software', 'sales'), ('software',\n",
    "                                                                                 'advert'), ('sales', 'advert'), ('cyber', 'sales'), ('design', 'advert')]  # 3 triads\n",
    "list_3 = [('software', 'design'), ('software', 'cyber'),\n",
    "          ('cyber', 'sales'), ('advert', 'sales')]  # Chain\n",
    "list_4 = [('software', 'design'), ('software', 'cyber'), ('cyber',\n",
    "                                                          'sales'), ('design', 'sales'), ('design', 'cyber')]  # 1 triad\n",
    "list_5 = [('software', 'design'), ('software', 'cyber'), ('software', 'sales'), ('software', 'advert'), ('sales', 'advert'),\n",
    "          ('cyber', 'sales'), ('design', 'advert'), ('design', 'cyber'), ('advert', 'cyber'), ('design', 'sales')]  # Fully connected"
   ]
  },
  {
   "cell_type": "code",
   "execution_count": 4,
   "metadata": {},
   "outputs": [],
   "source": [
    "project_1 = utils.createProjectNetwork(list_1)\n",
    "project_2 = utils.createProjectNetwork(list_2)\n",
    "project_3 = utils.createProjectNetwork(list_3)\n",
    "project_4 = utils.createProjectNetwork(list_4)\n",
    "project_5 = utils.createProjectNetwork(list_5)"
   ]
  },
  {
   "cell_type": "code",
   "execution_count": 5,
   "metadata": {},
   "outputs": [
    {
     "data": {
      "text/plain": [
       "NodeView(('software', 'design', 'cyber', 'sales', 'advert'))"
      ]
     },
     "execution_count": 5,
     "metadata": {},
     "output_type": "execute_result"
    }
   ],
   "source": [
    "project_3.nodes"
   ]
  },
  {
   "cell_type": "code",
   "execution_count": 6,
   "metadata": {},
   "outputs": [],
   "source": [
    "Team_1 = utils.createRandomTeam(network, 'design', 10)\n",
    "Team_2 = utils.createRandomTeam(network, 'cyber', 10)\n",
    "Team_3 = utils.createRandomTeam(network, 'software', 10)\n",
    "Team_4 = utils.createRandomTeam(network, 'advert', 10)\n",
    "Team_5 = utils.createRandomTeam(network, 'sales', 10)"
   ]
  },
  {
   "cell_type": "code",
   "execution_count": 7,
   "metadata": {},
   "outputs": [
    {
     "data": {
      "text/plain": [
       "NodeView((16884, 1235, 119042, 103825, 90438, 8464, 123715, 96429, 82362, 1917))"
      ]
     },
     "execution_count": 7,
     "metadata": {},
     "output_type": "execute_result"
    }
   ],
   "source": [
    "Team_1.nodes"
   ]
  },
  {
   "cell_type": "code",
   "execution_count": 8,
   "metadata": {},
   "outputs": [],
   "source": [
    "teams = [Team_1, Team_2, Team_3, Team_4, Team_5]\n",
    "team_network = utils.getSubgraph(network, teams)"
   ]
  },
  {
   "cell_type": "code",
   "execution_count": 9,
   "metadata": {},
   "outputs": [],
   "source": [
    "utils.getCoordinator(team_network, project_1)"
   ]
  }
 ],
 "metadata": {
  "kernelspec": {
   "display_name": "Python 3",
   "language": "python",
   "name": "python3"
  },
  "language_info": {
   "codemirror_mode": {
    "name": "ipython",
    "version": 3
   },
   "file_extension": ".py",
   "mimetype": "text/x-python",
   "name": "python",
   "nbconvert_exporter": "python",
   "pygments_lexer": "ipython3",
   "version": "3.10.5"
  }
 },
 "nbformat": 4,
 "nbformat_minor": 2
}
